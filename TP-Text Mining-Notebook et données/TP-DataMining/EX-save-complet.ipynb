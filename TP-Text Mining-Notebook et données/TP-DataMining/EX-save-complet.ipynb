{
 "cells": [
  {
   "cell_type": "markdown",
   "metadata": {},
   "source": [
    "### Exemples de sauvegarde des données / modèles"
   ]
  },
  {
   "cell_type": "markdown",
   "metadata": {},
   "source": [
    "### Ex1 :"
   ]
  },
  {
   "cell_type": "code",
   "execution_count": 1,
   "metadata": {},
   "outputs": [
    {
     "name": "stdout",
     "output_type": "stream",
     "text": [
      "[0]\n",
      "0\n"
     ]
    }
   ],
   "source": [
    "from sklearn import svm\n",
    "from sklearn import datasets\n",
    "\n",
    "clf = svm.SVC(gamma='auto')\n",
    "iris = datasets.load_iris()\n",
    "X, y = iris.data, iris.target\n",
    "clf.fit(X, y)\n",
    "\n",
    "\"\"\"\n",
    "SVC(C=1.0, cache_size=200, class_weight=None, coef0=0.0,\n",
    "    decision_function_shape='ovr', degree=3, gamma='auto', kernel='rbf',\n",
    "    max_iter=-1, probability=False, random_state=None, shrinking=True,\n",
    "    tol=0.001, verbose=False)\n",
    "\"\"\"\n",
    "\n",
    "# Sauvegarder le modèle  : \n",
    "import pickle\n",
    "s = pickle.dumps(clf)\n",
    "\n",
    "# Charger le modèle en mémoire : \n",
    "clf2 = pickle.loads(s)\n",
    "\n",
    "# tester \n",
    "print(clf2.predict(X[0:1]))\n",
    "# array([0])\n",
    "\n",
    "print(y[0])\n",
    "# 0\n",
    "\n",
    "\n",
    "# Avec joblib\n",
    "# Changé dans la nelle version sklearn\n",
    "# from sklearn.externals import joblib\n",
    "import joblib\n",
    "\n",
    "# La sauvegarde du modèle \n",
    "joblib.dump(clf, 'filename.pkl') \n",
    "\n",
    "# Récupération \n",
    "clf = joblib.load('filename.pkl')\n"
   ]
  },
  {
   "cell_type": "markdown",
   "metadata": {},
   "source": [
    "### Un exemple plus complet"
   ]
  },
  {
   "cell_type": "code",
   "execution_count": 2,
   "metadata": {},
   "outputs": [],
   "source": [
    "from tempfile import mkdtemp\n",
    "\n",
    "savedir = mkdtemp()\n",
    "import os\n",
    "filename = os.path.join(savedir, 'test.pkl')\n",
    "\n",
    "# Créeons un objet à sauvegarder\n",
    "import numpy as np\n",
    "to_persist = [('a', [1, 2, 3]), ('b', np.arange(10))]\n",
    "\n",
    "# On sauvegarde :\n",
    "import joblib\n",
    "joblib.dump(to_persist, filename)  \n",
    "\n",
    "# Chargement\n",
    "joblib.load(filename)\n",
    "# [('a', [1, 2, 3]), ('b', array([0, 1, 2, 3, 4, 5, 6, 7, 8, 9]))]\n",
    "\n",
    "\n",
    "# Utilisation avec descripteur\n",
    "with open(filename, 'wb') as fo:  joblib.dump(to_persist, fo)\n",
    "\n",
    "with open(filename, 'rb') as fo:   joblib.load(fo)\n",
    "# [('a', [1, 2, 3]), ('b', array([0, 1, 2, 3, 4, 5, 6, 7, 8, 9]))]\n",
    "\n",
    "# Compression pendant la sauvegarde : création du fichier \"test.pkl.compressed\"\n",
    "joblib.dump(to_persist, filename + '.compressed', compress=True)  \n",
    "\n",
    "# Compression gzip (il suffit de donnée la bonne extension comme 'gzip', 'bz2', 'lzma' et 'xz'). \n",
    "# Ces 2 derniers existent pour python > 3.3\n",
    "# Par défaut, joblib.dump utilise la compression  zlib \n",
    " \n",
    "joblib.dump(to_persist, filename + '.z')  \n",
    "# ['...test.pkl.z']\n",
    "\n",
    "# Exemples de compression :\n",
    "# Dumping in a gzip compressed file using a compress level of 3.\n",
    "joblib.dump(to_persist, filename + '.gz', compress=('gzip', 3))  \n",
    "# ['...test.pkl.gz']\n",
    "\n",
    "joblib.load(filename + '.gz')\n",
    "# [('a', [1, 2, 3]), ('b', array([0, 1, 2, 3, 4, 5, 6, 7, 8, 9]))]\n",
    "joblib.dump(to_persist, filename + '.bz2', compress=('bz2', 3))  \n",
    "# ['...test.pkl.bz2']\n",
    "\n",
    "joblib.load(filename + '.bz2')\n",
    "# [('a', [1, 2, 3]), ('b', array([0, 1, 2, 3, 4, 5, 6, 7, 8, 9]))]\n",
    "\n",
    "# On peut sipper soi-même avant !\n",
    "# Dumping in a gzip.GzipFile object using a compression level of 3.\n",
    "import gzip\n",
    "with gzip.GzipFile(filename + '.gz', 'wb', compresslevel=3) as fo:   joblib.dump(to_persist, fo)\n",
    "\n",
    "with gzip.GzipFile(filename + '.gz', 'rb') as fo:   joblib.load(fo)\n",
    "# [('a', [1, 2, 3]), ('b', array([0, 1, 2, 3, 4, 5, 6, 7, 8, 9]))]\n"
   ]
  },
  {
   "cell_type": "code",
   "execution_count": null,
   "metadata": {},
   "outputs": [],
   "source": []
  }
 ],
 "metadata": {
  "kernelspec": {
   "display_name": "Python 3",
   "language": "python",
   "name": "python3"
  },
  "language_info": {
   "codemirror_mode": {
    "name": "ipython",
    "version": 3
   },
   "file_extension": ".py",
   "mimetype": "text/x-python",
   "name": "python",
   "nbconvert_exporter": "python",
   "pygments_lexer": "ipython3",
   "version": "3.7.4"
  }
 },
 "nbformat": 4,
 "nbformat_minor": 4
}
