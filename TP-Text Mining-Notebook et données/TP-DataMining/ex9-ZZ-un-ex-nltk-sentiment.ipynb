{
 "cells": [
  {
   "cell_type": "markdown",
   "metadata": {},
   "source": [
    "# Un exemple d'analyse de sentiments (avec nltk)\n",
    "\n",
    "### Utilise Pickle\n",
    "### Thanks to  James Campbell"
   ]
  },
  {
   "cell_type": "code",
   "execution_count": 1,
   "metadata": {},
   "outputs": [],
   "source": [
    "import nltk\n",
    "import sys\n",
    "from sys import exit\n",
    "import pickle\n",
    "\n",
    "pos_tweets = [('I love this car', 'positive'),\n",
    "              ('This view is amazing', 'positive'),\n",
    "              ('I feel great this morning', 'positive'),\n",
    "              ('I am so excited about the concert', 'positive'),\n",
    "              ('He is my best friend', 'positive'),\n",
    "              ('Going well', 'positive'),\n",
    "              ('Thank you', 'positive'),\n",
    "              ('Hope you are doing well', 'positive'),\n",
    "              ('I am very happy', 'positive'),\n",
    "              ('Good for you', 'positive'),\n",
    "              ('It is all good. I know about it and I accept it.', 'positive'),\n",
    "              ('This is really good!', 'positive'),\n",
    "              ('Tomorrow is going to be fun.', 'positive'),\n",
    "              ('Smiling all around.', 'positive'),\n",
    "              ('These are great apples today.', 'positive'),\n",
    "              ('How about them apples? Thomas is a happy boy.', 'positive'),\n",
    "              ('Thomas is very zen. He is well-mannered.', 'positive')]\n",
    "\n",
    "neg_tweets = [('I do not like this car', 'negative'),\n",
    "              ('This view is horrible', 'negative'),\n",
    "              ('I feel tired this morning', 'negative'),\n",
    "              ('I am not looking forward to the concert', 'negative'),\n",
    "              ('He is my enemy', 'negative'),\n",
    "              ('I am a bad boy', 'negative'),\n",
    "              ('This is not good', 'negative'),\n",
    "              ('I am bothered by this', 'negative'),\n",
    "              ('I am not connected with this', 'negative'),\n",
    "              ('Sadistic creep you ass. Die.', 'negative'),\n",
    "              ('All sorts of crazy and scary as hell.', 'negative'),\n",
    "              ('Not his emails, no.', 'negative'),\n",
    "              ('His father is dead. Returned obviously.', 'negative'),\n",
    "              ('He has a bomb.', 'negative'),\n",
    "              ('Too fast to be on foot. We cannot catch them.', 'negative')]\n",
    "\n"
   ]
  },
  {
   "cell_type": "code",
   "execution_count": 2,
   "metadata": {},
   "outputs": [
    {
     "name": "stdout",
     "output_type": "stream",
     "text": [
      "Pour  I am a bad boy \ton a :  negative\n",
      "Pour  Are you a good girl ! \ton a :  positive\n",
      "Pour  One  night a hotel caught fire \ton a :  positive\n",
      "Pour  People who were staying there ran out in their night clothes \ton a :  positive\n",
      "Pour  Two men were stangig outside talking about the fire \ton a :  positive\n",
      "Positive count: 4 \n",
      "Negative count: 1\n"
     ]
    }
   ],
   "source": [
    "tweets = []\n",
    "for (words, sentiment) in pos_tweets + neg_tweets:\n",
    "    words_filtered = [e.lower() for e in words.split() if len(e) >= 3]\n",
    "    tweets.append((words_filtered, sentiment))\n",
    "\n",
    "def get_words_in_tweets(tweets):\n",
    "    all_words = []\n",
    "    for (words, sentiment) in tweets:\n",
    "      all_words.extend(words)\n",
    "    return all_words\n",
    "\n",
    "def get_word_features(wordlist):\n",
    "    wordlist = nltk.FreqDist(wordlist)\n",
    "    word_features = wordlist.keys()\n",
    "    return word_features\n",
    "\n",
    "def extract_features(document):\n",
    "    document_words = set(document)\n",
    "    features = {}\n",
    "    for word in word_features:\n",
    "        features['contains(%s)' % word] = (word in document_words)\n",
    "    return features\n",
    "\n",
    "word_features = get_word_features(get_words_in_tweets(tweets))\n",
    "\n",
    "training_set = nltk.classify.apply_features(extract_features, tweets)\n",
    "classifier = nltk.NaiveBayesClassifier.train(training_set)\n",
    "\n",
    "# On peut sauvegarder  le classifieur (ici on sauvegarde mais on ne le recharge pas : no need !)\n",
    "save_classifier = open(\"tweetposneg.pickle\",\"wb\")\n",
    "pickle.dump(classifier, save_classifier)\n",
    "save_classifier.close()\n",
    "\n",
    "# on doit recharger pour tester d'autres données de test : \n",
    "# on peut le charger  par : \n",
    "#             classifier_f = open(\"naivebayes.pickle\", \"rb\")\n",
    "#             classifier = pickle.load(classifier_f)\n",
    "#             classifier_f.close()\n",
    "\n",
    "runtweets = []  # recupérer une liste de tweet qu'on aurait donné en ligne de commande (TESTEZ)\n",
    "\n",
    "runtweets.append('I am a bad boy')  # test tweet au cas où \n",
    "runtweets.append('Are you a good girl !')  # test tweet au cas où \n",
    "runtweets.append('One  night a hotel caught fire')  #  n'importe quoi pour voir !\n",
    "runtweets.append('People who were staying there ran out in their night clothes')  #  n'importe quoi pour voir !\n",
    "runtweets.append('Two men were stangig outside talking about the fire')  #  n'importe quoi pour voir !\n",
    "poscount = 0\n",
    "negcount = 0\n",
    "for tweett in runtweets:\n",
    "  valued = classifier.classify(extract_features(tweett.split()))\n",
    "  print (\"Pour \", tweett, \"\\ton a : \", valued)\n",
    "  if valued == 'negative':\n",
    "    negcount = negcount + 1\n",
    "  else:\n",
    "    poscount = poscount + 1\n",
    "print ('Positive count: %s \\nNegative count: %s' % (poscount,negcount))\n",
    "  #  exit() pour s'arrêter avant la fin.\n",
    "\n",
    "\n"
   ]
  },
  {
   "cell_type": "markdown",
   "metadata": {},
   "source": [
    "## Trace :\n",
    "    Pour  I am a bad boy \ton a :  negative\n",
    "    Pour  Are you a good girl ! \ton a :  positive\n",
    "    Pour  One  night a hotel caught fire \ton a :  positive\n",
    "    Pour  People who were staying there ran out in their night clothes \ton a :  positive\n",
    "    Pour  Two men were stangig outside talking about the fire \ton a :  positive\n",
    "    Positive count: 4 \n",
    "    Negative count: 1\n",
    " "
   ]
  },
  {
   "cell_type": "code",
   "execution_count": null,
   "metadata": {},
   "outputs": [],
   "source": []
  }
 ],
 "metadata": {
  "kernelspec": {
   "display_name": "Python 3",
   "language": "python",
   "name": "python3"
  },
  "language_info": {
   "codemirror_mode": {
    "name": "ipython",
    "version": 3
   },
   "file_extension": ".py",
   "mimetype": "text/x-python",
   "name": "python",
   "nbconvert_exporter": "python",
   "pygments_lexer": "ipython3",
   "version": "3.7.4"
  }
 },
 "nbformat": 4,
 "nbformat_minor": 4
}
