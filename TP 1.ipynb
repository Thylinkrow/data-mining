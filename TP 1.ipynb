{
 "cells": [
  {
   "cell_type": "markdown",
   "metadata": {
    "collapsed": true
   },
   "source": [
    "# TP 1.A"
   ]
  },
  {
   "cell_type": "markdown",
   "metadata": {},
   "source": [
    "# Exercise 1"
   ]
  },
  {
   "cell_type": "markdown",
   "metadata": {},
   "source": [
    "## 1. Comments"
   ]
  },
  {
   "cell_type": "code",
   "execution_count": 5,
   "metadata": {},
   "outputs": [
    {
     "name": "stdout",
     "output_type": "stream",
     "text": [
      "Bonjour\n"
     ]
    }
   ],
   "source": [
    "# This is a comment\n",
    "print(\"Bonjour\")"
   ]
  },
  {
   "cell_type": "markdown",
   "metadata": {},
   "source": [
    "## 2. Variables"
   ]
  },
  {
   "cell_type": "code",
   "execution_count": 6,
   "metadata": {},
   "outputs": [
    {
     "name": "stdout",
     "output_type": "stream",
     "text": [
      "le monde!\n"
     ]
    }
   ],
   "source": [
    "# a variable\n",
    "message = \"le monde!\"\n",
    "print(message)"
   ]
  },
  {
   "cell_type": "code",
   "execution_count": 7,
   "metadata": {},
   "outputs": [
    {
     "name": "stdout",
     "output_type": "stream",
     "text": [
      "30\n"
     ]
    }
   ],
   "source": [
    "a = 10\n",
    "b = 20\n",
    "c = a + b\n",
    "print(c)"
   ]
  },
  {
   "cell_type": "code",
   "execution_count": 8,
   "metadata": {},
   "outputs": [
    {
     "name": "stdout",
     "output_type": "stream",
     "text": [
      "3.14\n"
     ]
    }
   ],
   "source": [
    "# floating point numbers\n",
    "pi = 3.14\n",
    "print(pi)"
   ]
  },
  {
   "cell_type": "code",
   "execution_count": 9,
   "metadata": {},
   "outputs": [
    {
     "name": "stdout",
     "output_type": "stream",
     "text": [
      "<class 'str'>\n",
      "<class 'int'>\n",
      "<class 'float'>\n"
     ]
    }
   ],
   "source": [
    "# data types\n",
    "message1 = \"Bonjour\"\n",
    "a = 12\n",
    "pi = 3.14\n",
    "print(type(message1))\n",
    "print(type(a))\n",
    "print(type(pi))"
   ]
  },
  {
   "cell_type": "markdown",
   "metadata": {},
   "source": [
    "## 3. Concatenation of two strings"
   ]
  },
  {
   "cell_type": "code",
   "execution_count": 10,
   "metadata": {},
   "outputs": [
    {
     "name": "stdout",
     "output_type": "stream",
     "text": [
      "Bonjourle monde!\n"
     ]
    }
   ],
   "source": [
    "# concatenation of two strings\n",
    "message = \"le monde!\"\n",
    "print(\"Bonjour\" + message)"
   ]
  },
  {
   "cell_type": "code",
   "execution_count": 12,
   "metadata": {},
   "outputs": [
    {
     "name": "stdout",
     "output_type": "stream",
     "text": [
      "Bonjour le monde!\n"
     ]
    }
   ],
   "source": [
    "# concatenation of two strings\n",
    "message1 = \"Bonjour \"\n",
    "message2 = \"le monde!\"\n",
    "print(message1 + message2)"
   ]
  },
  {
   "cell_type": "code",
   "execution_count": 13,
   "metadata": {},
   "outputs": [
    {
     "ename": "TypeError",
     "evalue": "must be str, not int",
     "output_type": "error",
     "traceback": [
      "\u001b[1;31m---------------------------------------------------------------------------\u001b[0m",
      "\u001b[1;31mTypeError\u001b[0m                                 Traceback (most recent call last)",
      "\u001b[1;32m<ipython-input-13-54ad953b8971>\u001b[0m in \u001b[0;36m<module>\u001b[1;34m()\u001b[0m\n\u001b[0;32m      3\u001b[0m \u001b[0mmessage1\u001b[0m \u001b[1;33m=\u001b[0m \u001b[1;34m\"Bonjour en Python\"\u001b[0m\u001b[1;33m\u001b[0m\u001b[0m\n\u001b[0;32m      4\u001b[0m \u001b[0ma\u001b[0m \u001b[1;33m=\u001b[0m \u001b[1;36m3\u001b[0m\u001b[1;33m\u001b[0m\u001b[0m\n\u001b[1;32m----> 5\u001b[1;33m \u001b[0mprint\u001b[0m\u001b[1;33m(\u001b[0m\u001b[0mmessage1\u001b[0m \u001b[1;33m+\u001b[0m \u001b[0ma\u001b[0m\u001b[1;33m)\u001b[0m\u001b[1;33m\u001b[0m\u001b[0m\n\u001b[0m",
      "\u001b[1;31mTypeError\u001b[0m: must be str, not int"
     ]
    }
   ],
   "source": [
    "# concatenation involving two variables of different data types\n",
    "# operation + on two different data types\n",
    "message1 = \"Bonjour en Python\"\n",
    "a = 3\n",
    "print(message1 + a)"
   ]
  },
  {
   "cell_type": "code",
   "execution_count": 14,
   "metadata": {},
   "outputs": [
    {
     "name": "stdout",
     "output_type": "stream",
     "text": [
      "Bonjour en Python 3\n"
     ]
    }
   ],
   "source": [
    "# concatenation solution involving two variables of different data types\n",
    "message1 = \"Bonjour en Python \"\n",
    "a = 3\n",
    "print(message1 + str(a))"
   ]
  },
  {
   "cell_type": "markdown",
   "metadata": {},
   "source": [
    "## 4. Lists"
   ]
  },
  {
   "cell_type": "code",
   "execution_count": 15,
   "metadata": {},
   "outputs": [
    {
     "name": "stdout",
     "output_type": "stream",
     "text": [
      "[10, 20, 30, 40, 50]\n"
     ]
    }
   ],
   "source": [
    "a = [10, 20, 30, 40, 50]\n",
    "print(a)"
   ]
  },
  {
   "cell_type": "code",
   "execution_count": 16,
   "metadata": {},
   "outputs": [
    {
     "name": "stdout",
     "output_type": "stream",
     "text": [
      "10\n",
      "20\n",
      "30\n",
      "40\n",
      "50\n"
     ]
    }
   ],
   "source": [
    "a = [10, 20, 30, 40, 50]\n",
    "print(a[0])\n",
    "print(a[1])\n",
    "print(a[2])\n",
    "print(a[3])\n",
    "print(a[4])"
   ]
  },
  {
   "cell_type": "code",
   "execution_count": 17,
   "metadata": {},
   "outputs": [
    {
     "ename": "IndexError",
     "evalue": "list index out of range",
     "output_type": "error",
     "traceback": [
      "\u001b[1;31m---------------------------------------------------------------------------\u001b[0m",
      "\u001b[1;31mIndexError\u001b[0m                                Traceback (most recent call last)",
      "\u001b[1;32m<ipython-input-17-814ea6946ed1>\u001b[0m in \u001b[0;36m<module>\u001b[1;34m()\u001b[0m\n\u001b[0;32m      1\u001b[0m \u001b[0ma\u001b[0m \u001b[1;33m=\u001b[0m \u001b[1;33m[\u001b[0m\u001b[1;36m10\u001b[0m\u001b[1;33m,\u001b[0m \u001b[1;36m20\u001b[0m\u001b[1;33m,\u001b[0m \u001b[1;36m30\u001b[0m\u001b[1;33m,\u001b[0m \u001b[1;36m40\u001b[0m\u001b[1;33m,\u001b[0m \u001b[1;36m50\u001b[0m\u001b[1;33m]\u001b[0m\u001b[1;33m\u001b[0m\u001b[0m\n\u001b[1;32m----> 2\u001b[1;33m \u001b[0mprint\u001b[0m\u001b[1;33m(\u001b[0m\u001b[0ma\u001b[0m\u001b[1;33m[\u001b[0m\u001b[1;36m8\u001b[0m\u001b[1;33m]\u001b[0m\u001b[1;33m)\u001b[0m\u001b[1;33m\u001b[0m\u001b[0m\n\u001b[0m",
      "\u001b[1;31mIndexError\u001b[0m: list index out of range"
     ]
    }
   ],
   "source": [
    "a = [10, 20, 30, 40, 50]\n",
    "print(a[8])"
   ]
  },
  {
   "cell_type": "code",
   "execution_count": 18,
   "metadata": {},
   "outputs": [
    {
     "name": "stdout",
     "output_type": "stream",
     "text": [
      "B\n",
      "o\n",
      "n\n",
      "j\n",
      "o\n",
      "u\n",
      "r\n",
      " \n"
     ]
    }
   ],
   "source": [
    "message1 = \"Bonjour en Python \"\n",
    "print(message1[0])\n",
    "print(message1[1])\n",
    "print(message1[2])\n",
    "print(message1[3])\n",
    "print(message1[4])\n",
    "print(message1[5])\n",
    "print(message1[6])\n",
    "print(message1[7])"
   ]
  },
  {
   "cell_type": "code",
   "execution_count": 19,
   "metadata": {},
   "outputs": [
    {
     "name": "stdout",
     "output_type": "stream",
     "text": [
      "18\n"
     ]
    }
   ],
   "source": [
    "message1 = \"Bonjour en Python \"\n",
    "print(len(message1))"
   ]
  },
  {
   "cell_type": "code",
   "execution_count": 20,
   "metadata": {},
   "outputs": [
    {
     "name": "stdout",
     "output_type": "stream",
     "text": [
      "5\n"
     ]
    }
   ],
   "source": [
    "a = [10, 20, 30, 40, 50]\n",
    "print(len(a))"
   ]
  },
  {
   "cell_type": "code",
   "execution_count": 21,
   "metadata": {},
   "outputs": [
    {
     "name": "stdout",
     "output_type": "stream",
     "text": [
      "[10, 20, 30, 40, 50, 60]\n"
     ]
    }
   ],
   "source": [
    "a = [10, 20, 30, 40, 50]\n",
    "a.append(60)\n",
    "print(a)"
   ]
  },
  {
   "cell_type": "code",
   "execution_count": 22,
   "metadata": {},
   "outputs": [
    {
     "name": "stdout",
     "output_type": "stream",
     "text": [
      "[0, 20, 30, 40, 50]\n"
     ]
    }
   ],
   "source": [
    "a = [10, 20, 30, 40, 50]\n",
    "a[0] = 0\n",
    "print(a)"
   ]
  },
  {
   "cell_type": "code",
   "execution_count": 23,
   "metadata": {},
   "outputs": [
    {
     "ename": "IndexError",
     "evalue": "list assignment index out of range",
     "output_type": "error",
     "traceback": [
      "\u001b[1;31m---------------------------------------------------------------------------\u001b[0m",
      "\u001b[1;31mIndexError\u001b[0m                                Traceback (most recent call last)",
      "\u001b[1;32m<ipython-input-23-0fd17e0f4570>\u001b[0m in \u001b[0;36m<module>\u001b[1;34m()\u001b[0m\n\u001b[0;32m      1\u001b[0m \u001b[0ma\u001b[0m \u001b[1;33m=\u001b[0m \u001b[1;33m[\u001b[0m\u001b[1;36m10\u001b[0m\u001b[1;33m,\u001b[0m \u001b[1;36m20\u001b[0m\u001b[1;33m,\u001b[0m \u001b[1;36m30\u001b[0m\u001b[1;33m,\u001b[0m \u001b[1;36m40\u001b[0m\u001b[1;33m,\u001b[0m \u001b[1;36m50\u001b[0m\u001b[1;33m]\u001b[0m\u001b[1;33m\u001b[0m\u001b[0m\n\u001b[1;32m----> 2\u001b[1;33m \u001b[0ma\u001b[0m\u001b[1;33m[\u001b[0m\u001b[1;36m6\u001b[0m\u001b[1;33m]\u001b[0m \u001b[1;33m=\u001b[0m \u001b[1;36m20\u001b[0m\u001b[1;33m\u001b[0m\u001b[0m\n\u001b[0m\u001b[0;32m      3\u001b[0m \u001b[0mprint\u001b[0m\u001b[1;33m(\u001b[0m\u001b[0ma\u001b[0m\u001b[1;33m)\u001b[0m\u001b[1;33m\u001b[0m\u001b[0m\n",
      "\u001b[1;31mIndexError\u001b[0m: list assignment index out of range"
     ]
    }
   ],
   "source": [
    "a = [10, 20, 30, 40, 50]\n",
    "a[6] = 20\n",
    "print(a)"
   ]
  },
  {
   "cell_type": "code",
   "execution_count": 24,
   "metadata": {},
   "outputs": [
    {
     "name": "stdout",
     "output_type": "stream",
     "text": [
      "[0, 10, 20, 30, 40, 50]\n",
      "6\n"
     ]
    }
   ],
   "source": [
    "a = [10, 20, 30, 40, 50]\n",
    "a.insert(0, 0)\n",
    "print(a)\n",
    "print(len(a))"
   ]
  },
  {
   "cell_type": "code",
   "execution_count": 25,
   "metadata": {},
   "outputs": [
    {
     "name": "stdout",
     "output_type": "stream",
     "text": [
      "[10, 20, 30, 40, 50, 60]\n",
      "6\n"
     ]
    }
   ],
   "source": [
    "a = [10, 20, 30, 40, 50]\n",
    "a.insert(6,60)\n",
    "print(a)\n",
    "print(len(a))"
   ]
  },
  {
   "cell_type": "markdown",
   "metadata": {},
   "source": [
    "## 5. Tuples (non-modifiable lists)"
   ]
  },
  {
   "cell_type": "code",
   "execution_count": 26,
   "metadata": {},
   "outputs": [
    {
     "name": "stdout",
     "output_type": "stream",
     "text": [
      "(10, 20, 30, 40, 50)\n"
     ]
    }
   ],
   "source": [
    "a = (10, 20, 30, 40, 50)\n",
    "print(a)"
   ]
  },
  {
   "cell_type": "code",
   "execution_count": 27,
   "metadata": {},
   "outputs": [
    {
     "name": "stdout",
     "output_type": "stream",
     "text": [
      "10\n"
     ]
    }
   ],
   "source": [
    "a = (10, 20, 30, 40, 50)\n",
    "print(a[0])"
   ]
  },
  {
   "cell_type": "code",
   "execution_count": 28,
   "metadata": {},
   "outputs": [
    {
     "ename": "TypeError",
     "evalue": "'tuple' object does not support item assignment",
     "output_type": "error",
     "traceback": [
      "\u001b[1;31m---------------------------------------------------------------------------\u001b[0m",
      "\u001b[1;31mTypeError\u001b[0m                                 Traceback (most recent call last)",
      "\u001b[1;32m<ipython-input-28-68cc0e17294f>\u001b[0m in \u001b[0;36m<module>\u001b[1;34m()\u001b[0m\n\u001b[0;32m      1\u001b[0m \u001b[0ma\u001b[0m \u001b[1;33m=\u001b[0m \u001b[1;33m(\u001b[0m\u001b[1;36m10\u001b[0m\u001b[1;33m,\u001b[0m \u001b[1;36m20\u001b[0m\u001b[1;33m,\u001b[0m \u001b[1;36m30\u001b[0m\u001b[1;33m,\u001b[0m \u001b[1;36m40\u001b[0m\u001b[1;33m,\u001b[0m \u001b[1;36m50\u001b[0m\u001b[1;33m)\u001b[0m\u001b[1;33m\u001b[0m\u001b[0m\n\u001b[1;32m----> 2\u001b[1;33m \u001b[0ma\u001b[0m\u001b[1;33m[\u001b[0m\u001b[1;36m0\u001b[0m\u001b[1;33m]\u001b[0m \u001b[1;33m=\u001b[0m \u001b[1;36m0\u001b[0m\u001b[1;33m\u001b[0m\u001b[0m\n\u001b[0m\u001b[0;32m      3\u001b[0m \u001b[0mprint\u001b[0m\u001b[1;33m(\u001b[0m\u001b[0ma\u001b[0m\u001b[1;33m)\u001b[0m\u001b[1;33m\u001b[0m\u001b[0m\n",
      "\u001b[1;31mTypeError\u001b[0m: 'tuple' object does not support item assignment"
     ]
    }
   ],
   "source": [
    "a = (10, 20, 30, 40, 50)\n",
    "a[0] = 0\n",
    "print(a)"
   ]
  },
  {
   "cell_type": "markdown",
   "metadata": {},
   "source": [
    "## 6. Sets"
   ]
  },
  {
   "cell_type": "code",
   "execution_count": 29,
   "metadata": {},
   "outputs": [
    {
     "name": "stdout",
     "output_type": "stream",
     "text": [
      "{40, 10, 50, 20, 30}\n"
     ]
    }
   ],
   "source": [
    "a = {10, 20, 30, 40, 50, 10, 20, 30, 40, 50}\n",
    "print(a)"
   ]
  },
  {
   "cell_type": "code",
   "execution_count": 30,
   "metadata": {},
   "outputs": [
    {
     "name": "stdout",
     "output_type": "stream",
     "text": [
      "{40, 10, 50, 20, 30}\n"
     ]
    }
   ],
   "source": [
    "a = {10, 20, 30, 40, 50, 10, 20, 30, 40, 50}\n",
    "a.add(10)\n",
    "print(a)"
   ]
  },
  {
   "cell_type": "code",
   "execution_count": 31,
   "metadata": {},
   "outputs": [
    {
     "name": "stdout",
     "output_type": "stream",
     "text": [
      "{40, 10, 50, 20, 60, 30}\n"
     ]
    }
   ],
   "source": [
    "a = {10, 20, 30, 40, 50, 10, 20, 30, 40, 50}\n",
    "a.add(60)\n",
    "print(a)"
   ]
  },
  {
   "cell_type": "code",
   "execution_count": 32,
   "metadata": {},
   "outputs": [
    {
     "name": "stdout",
     "output_type": "stream",
     "text": [
      "{10, 50, 20, 30}\n"
     ]
    }
   ],
   "source": [
    "a = {10, 20, 30, 40, 50, 10, 20, 30, 40, 50}\n",
    "a.remove(40)\n",
    "print(a)"
   ]
  },
  {
   "cell_type": "code",
   "execution_count": 33,
   "metadata": {},
   "outputs": [
    {
     "name": "stdout",
     "output_type": "stream",
     "text": [
      "{40, 10, 50, 20, 30}\n",
      "<class 'set'>\n",
      "(10, 20, 30, 40, 50, 10, 20, 30, 40, 50)\n",
      "<class 'tuple'>\n",
      "[10, 20, 30, 40, 50, 10, 20, 30, 40, 50]\n",
      "<class 'list'>\n"
     ]
    }
   ],
   "source": [
    "# set\n",
    "a = {10, 20, 30, 40, 50, 10, 20, 30, 40, 50}\n",
    "print(a)\n",
    "print(type(a))\n",
    "# tuple\n",
    "b = (10, 20, 30, 40, 50, 10, 20, 30, 40, 50)\n",
    "print(b)\n",
    "print(type(b))\n",
    "# list\n",
    "c= [10, 20, 30, 40, 50, 10, 20, 30, 40, 50]\n",
    "print(c)\n",
    "print(type(c))"
   ]
  },
  {
   "cell_type": "markdown",
   "metadata": {},
   "source": [
    "# Exercise 2"
   ]
  },
  {
   "cell_type": "markdown",
   "metadata": {},
   "source": [
    "## 1. Conditional Expressions"
   ]
  },
  {
   "cell_type": "code",
   "execution_count": 45,
   "metadata": {},
   "outputs": [
    {
     "name": "stdout",
     "output_type": "stream",
     "text": [
      "12  is divisible by 2\n"
     ]
    }
   ],
   "source": [
    "a = 12\n",
    "if( a%2 == 0):\n",
    "    print(a, \" is divisible by 2\")\n",
    "else:\n",
    "    print(a, \" is not divisible by 2\")"
   ]
  },
  {
   "cell_type": "code",
   "execution_count": 44,
   "metadata": {},
   "outputs": [
    {
     "name": "stdout",
     "output_type": "stream",
     "text": [
      "Bonjour le monde!\n"
     ]
    }
   ],
   "source": [
    "lang = \"Français\"\n",
    "if (lang ==\"Français\"):\n",
    "    print(\"Bonjour le monde!\")\n",
    "else:\n",
    "    print(\"Hello World!\")"
   ]
  },
  {
   "cell_type": "markdown",
   "metadata": {},
   "source": [
    "## 2. Loops"
   ]
  },
  {
   "cell_type": "code",
   "execution_count": 41,
   "metadata": {},
   "outputs": [
    {
     "name": "stdout",
     "output_type": "stream",
     "text": [
      "10\n",
      "20\n",
      "30\n",
      "40\n",
      "50\n",
      "10\n",
      "20\n",
      "30\n",
      "40\n",
      "50\n"
     ]
    }
   ],
   "source": [
    "for i in [10, 20, 30, 40, 50, 10, 20, 30, 40, 50]:\n",
    "    print(i)"
   ]
  },
  {
   "cell_type": "code",
   "execution_count": 42,
   "metadata": {},
   "outputs": [
    {
     "name": "stdout",
     "output_type": "stream",
     "text": [
      "10\n",
      "20\n",
      "30\n",
      "40\n",
      "50\n",
      "10\n",
      "20\n",
      "30\n",
      "40\n",
      "50\n"
     ]
    }
   ],
   "source": [
    "for i in (10, 20, 30, 40, 50, 10, 20, 30, 40, 50):\n",
    "    print(i)"
   ]
  },
  {
   "cell_type": "code",
   "execution_count": 43,
   "metadata": {},
   "outputs": [
    {
     "name": "stdout",
     "output_type": "stream",
     "text": [
      "40\n",
      "10\n",
      "50\n",
      "20\n",
      "30\n"
     ]
    }
   ],
   "source": [
    "for i in {10, 20, 30, 40, 50, 10, 20, 30, 40, 50}:\n",
    "    print(i)"
   ]
  },
  {
   "cell_type": "markdown",
   "metadata": {},
   "source": [
    "## 2. Range"
   ]
  },
  {
   "cell_type": "code",
   "execution_count": 46,
   "metadata": {},
   "outputs": [
    {
     "name": "stdout",
     "output_type": "stream",
     "text": [
      "0\n",
      "1\n",
      "2\n",
      "3\n",
      "4\n",
      "5\n",
      "6\n",
      "7\n",
      "8\n",
      "9\n"
     ]
    }
   ],
   "source": [
    "for i in range(0,10):\n",
    "    print(i)"
   ]
  },
  {
   "cell_type": "code",
   "execution_count": 47,
   "metadata": {},
   "outputs": [
    {
     "name": "stdout",
     "output_type": "stream",
     "text": [
      "0\n",
      "2\n",
      "4\n",
      "6\n",
      "8\n"
     ]
    }
   ],
   "source": [
    "for i in range(0,10,2):\n",
    "    print(i)"
   ]
  },
  {
   "cell_type": "code",
   "execution_count": 48,
   "metadata": {},
   "outputs": [
    {
     "name": "stdout",
     "output_type": "stream",
     "text": [
      "0 2 4 6 8 "
     ]
    }
   ],
   "source": [
    "for i in range(0,10,2):\n",
    "    print(i, end=' ')"
   ]
  },
  {
   "cell_type": "code",
   "execution_count": 49,
   "metadata": {},
   "outputs": [
    {
     "name": "stdout",
     "output_type": "stream",
     "text": [
      "10\n",
      "8\n",
      "6\n",
      "4\n",
      "2\n"
     ]
    }
   ],
   "source": [
    "for i in range(10,0,-2):\n",
    "    print(i)"
   ]
  },
  {
   "cell_type": "code",
   "execution_count": 52,
   "metadata": {
    "collapsed": true
   },
   "outputs": [],
   "source": [
    "for i in range(10,0):\n",
    "    print(i)"
   ]
  },
  {
   "cell_type": "code",
   "execution_count": 51,
   "metadata": {},
   "outputs": [
    {
     "name": "stdout",
     "output_type": "stream",
     "text": [
      "Bonjour,le,monde!\n"
     ]
    }
   ],
   "source": [
    "for i in \"Bonjour,le,monde!\".split():\n",
    "    print(i)"
   ]
  },
  {
   "cell_type": "code",
   "execution_count": 58,
   "metadata": {},
   "outputs": [
    {
     "name": "stdout",
     "output_type": "stream",
     "text": [
      "Bonjour\n",
      "le\n",
      "monde!\n"
     ]
    }
   ],
   "source": [
    "for i in \"Bonjour,le,monde!\".split(\",\"):\n",
    "    print(i)"
   ]
  },
  {
   "cell_type": "code",
   "execution_count": 56,
   "metadata": {},
   "outputs": [
    {
     "name": "stdout",
     "output_type": "stream",
     "text": [
      "\n",
      "1\n",
      "12\n",
      "123\n",
      "1234\n",
      "12345\n",
      "123456\n",
      "1234567\n",
      "12345678\n"
     ]
    }
   ],
   "source": [
    "for i in range(9):\n",
    "    for j in range (i):\n",
    "        #imbricate loop to make a pyramid\n",
    "        print((j+1),end=\"\")\n",
    "    print()"
   ]
  },
  {
   "cell_type": "markdown",
   "metadata": {},
   "source": [
    "# Exercise 3"
   ]
  },
  {
   "cell_type": "markdown",
   "metadata": {},
   "source": [
    "## 1. Sort"
   ]
  },
  {
   "cell_type": "code",
   "execution_count": 57,
   "metadata": {},
   "outputs": [
    {
     "name": "stdout",
     "output_type": "stream",
     "text": [
      "[10, 10, 20, 20, 30, 30, 40, 40, 50, 50]\n"
     ]
    }
   ],
   "source": [
    "num = [10, 20, 30, 40, 50, 10, 20, 30, 40, 50]\n",
    "num.sort()\n",
    "print(num)"
   ]
  },
  {
   "cell_type": "markdown",
   "metadata": {},
   "source": [
    "## 2. Sort (decreasing order)"
   ]
  },
  {
   "cell_type": "code",
   "execution_count": 59,
   "metadata": {},
   "outputs": [
    {
     "name": "stdout",
     "output_type": "stream",
     "text": [
      "[50, 50, 40, 40, 30, 30, 20, 20, 10, 10]\n"
     ]
    }
   ],
   "source": [
    "num = [10, 20, 30, 40, 50, 10, 20, 30, 40, 50]\n",
    "num.sort(reverse=True)\n",
    "print(num)"
   ]
  },
  {
   "cell_type": "markdown",
   "metadata": {},
   "source": [
    "## 3. minimum"
   ]
  },
  {
   "cell_type": "code",
   "execution_count": 60,
   "metadata": {},
   "outputs": [
    {
     "name": "stdout",
     "output_type": "stream",
     "text": [
      "10\n"
     ]
    }
   ],
   "source": [
    "num = [10, 20, 30, 40, 50, 10, 20, 30, 40, 50]\n",
    "print(min(num))"
   ]
  },
  {
   "cell_type": "markdown",
   "metadata": {},
   "source": [
    "## 4. maximum"
   ]
  },
  {
   "cell_type": "code",
   "execution_count": 61,
   "metadata": {},
   "outputs": [
    {
     "name": "stdout",
     "output_type": "stream",
     "text": [
      "50\n"
     ]
    }
   ],
   "source": [
    "num = [10, 20, 30, 40, 50, 10, 20, 30, 40, 50]\n",
    "print(max(num))"
   ]
  },
  {
   "cell_type": "markdown",
   "metadata": {},
   "source": [
    "## 5. sorted()"
   ]
  },
  {
   "cell_type": "code",
   "execution_count": 62,
   "metadata": {},
   "outputs": [
    {
     "name": "stdout",
     "output_type": "stream",
     "text": [
      "[80, 70, 70, 60, 50]\n"
     ]
    }
   ],
   "source": [
    "num = [70, 20, 30, 10, 50, 60, 20, 80, 70, 50]\n",
    "num = sorted(num,reverse=True)[:5]\n",
    "print(num)"
   ]
  },
  {
   "cell_type": "markdown",
   "metadata": {},
   "source": [
    "### Modify the code given below to display the five greatest unique numbers.\n",
    "print(sorted(\"Bonjour le monde!\".split(), key=str.lower, reverse=True))"
   ]
  },
  {
   "cell_type": "code",
   "execution_count": 68,
   "metadata": {},
   "outputs": [
    {
     "name": "stdout",
     "output_type": "stream",
     "text": [
      "[80, 70, 60, 50, 30]\n"
     ]
    }
   ],
   "source": [
    "num = [70, 20, 30, 10, 50, 60, 20, 80, 70, 50]\n",
    "\n",
    "#We sort the list to \n",
    "#a set only contains unqiue numbers\n",
    "#[:5] to take de 5 first elements\n",
    "print(sorted(set(num), reverse=True)[:5])"
   ]
  },
  {
   "cell_type": "markdown",
   "metadata": {},
   "source": [
    "# Exercise 4"
   ]
  },
  {
   "cell_type": "markdown",
   "metadata": {},
   "source": [
    "## 1. Dictionary"
   ]
  },
  {
   "cell_type": "code",
   "execution_count": 1,
   "metadata": {},
   "outputs": [
    {
     "name": "stdout",
     "output_type": "stream",
     "text": [
      "{'contente': 12, 'content': 12, 'triste': 2}\n",
      "<class 'dict'>\n"
     ]
    }
   ],
   "source": [
    "a = {\"contente\": 12, \"content\": 12, \"triste\": 2}\n",
    "print(a)\n",
    "print(type(a))"
   ]
  },
  {
   "cell_type": "code",
   "execution_count": 2,
   "metadata": {},
   "outputs": [
    {
     "name": "stdout",
     "output_type": "stream",
     "text": [
      "la phrase  contente  apparait  12  fois\n",
      "la phrase  content  apparait  12  fois\n",
      "la phrase  triste  apparait  2  fois\n"
     ]
    }
   ],
   "source": [
    "a = {\"contente\": 12, \"content\": 12, \"triste\": 2}\n",
    "for cle in a:\n",
    "    print(\"la phrase \", cle, \" apparait \", a[cle], \" fois\")"
   ]
  },
  {
   "cell_type": "code",
   "execution_count": 3,
   "metadata": {},
   "outputs": [
    {
     "name": "stdout",
     "output_type": "stream",
     "text": [
      "la phrase  contente  apparait  12  fois\n",
      "la phrase  content  apparait  12  fois\n",
      "la phrase  triste  apparait  2  fois\n"
     ]
    }
   ],
   "source": [
    "a = {\"contente\": 12, \"content\": 12, \"triste\": 2}\n",
    "for key,value in a.items():\n",
    "    print(\"la phrase \", key, \" apparait \", value, \" fois\")"
   ]
  },
  {
   "cell_type": "code",
   "execution_count": 4,
   "metadata": {},
   "outputs": [
    {
     "name": "stdout",
     "output_type": "stream",
     "text": [
      "{'contente': 12, 'content': 12, 'triste': 2, 'joie': 10}\n"
     ]
    }
   ],
   "source": [
    "a = {\"contente\": 12, \"content\": 12, \"triste\": 2}\n",
    "a[\"joie\"] = 10\n",
    "print(a)"
   ]
  },
  {
   "cell_type": "code",
   "execution_count": 5,
   "metadata": {},
   "outputs": [
    {
     "name": "stdout",
     "output_type": "stream",
     "text": [
      "{'contente': 12, 'content': 12}\n"
     ]
    }
   ],
   "source": [
    "a = {\"contente\": 12, \"content\": 12, \"triste\": 2}\n",
    "del a[\"triste\"]\n",
    "print(a)"
   ]
  },
  {
   "cell_type": "code",
   "execution_count": 6,
   "metadata": {},
   "outputs": [
    {
     "name": "stdout",
     "output_type": "stream",
     "text": [
      "['content', 'contente', 'joie', 'triste']\n"
     ]
    }
   ],
   "source": [
    "mots = {\"contente\": 12, \"content\": 12, \"triste\": 2, \"joie\" : 10} \n",
    "print(sorted(mots))"
   ]
  },
  {
   "cell_type": "code",
   "execution_count": 7,
   "metadata": {},
   "outputs": [
    {
     "name": "stdout",
     "output_type": "stream",
     "text": [
      "[('contente', 12), ('content', 12), ('triste', 2), ('joie', 10)]\n"
     ]
    }
   ],
   "source": [
    "mots = {\"contente\": 12, \"content\": 12, \"triste\": 2, \"joie\" : 10}\n",
    "mots_tuple = [(key, value) for key,value in mots.items()]\n",
    "print(mots_tuple)"
   ]
  },
  {
   "cell_type": "markdown",
   "metadata": {},
   "source": [
    "## 2. itemgetter"
   ]
  },
  {
   "cell_type": "code",
   "execution_count": 135,
   "metadata": {},
   "outputs": [
    {
     "name": "stdout",
     "output_type": "stream",
     "text": [
      "[('triste', 2), ('joie', 10), ('contente', 12), ('content', 12)]\n"
     ]
    }
   ],
   "source": [
    "from operator import itemgetter\n",
    "\n",
    "mots = {\"contente\": 12, \"content\": 12, \"triste\": 2, \"joie\" : 10}\n",
    "mots_tuple = [(key, value) for key,value in mots.items()]\n",
    "print(sorted(mots_tuple, key=itemgetter(1)))"
   ]
  },
  {
   "cell_type": "markdown",
   "metadata": {},
   "source": [
    "## 3. Interaction avec l'utilisateur"
   ]
  },
  {
   "cell_type": "code",
   "execution_count": 136,
   "metadata": {},
   "outputs": [
    {
     "name": "stdout",
     "output_type": "stream",
     "text": [
      "Quel est votre nom?Jabril\n",
      "Jabril\n"
     ]
    }
   ],
   "source": [
    "nom = input(\"Quel est votre nom?\")\n",
    "print(nom)"
   ]
  },
  {
   "cell_type": "code",
   "execution_count": 137,
   "metadata": {},
   "outputs": [
    {
     "name": "stdout",
     "output_type": "stream",
     "text": [
      "Quel est votre âge? 20\n",
      "20\n",
      "<class 'str'>\n"
     ]
    }
   ],
   "source": [
    "age = input(\"Quel est votre âge? \")\n",
    "print(age)\n",
    "print(type(age))"
   ]
  },
  {
   "cell_type": "code",
   "execution_count": 139,
   "metadata": {},
   "outputs": [
    {
     "name": "stdout",
     "output_type": "stream",
     "text": [
      "Quel est votre âge? 20\n",
      "20\n",
      "<class 'int'>\n"
     ]
    }
   ],
   "source": [
    "age = input(\"Quel est votre âge? \")\n",
    "age = int(age)\n",
    "print(age)\n",
    "print(type(age))"
   ]
  },
  {
   "cell_type": "markdown",
   "metadata": {},
   "source": [
    "Question: Write a program in Python that interacts with the user to obtain the following information of 5 students:\n",
    "- Name of student\n",
    "- Age\n",
    "- Grades in 5 modules\n",
    "Once the information for all the five students is obtained, calculate and display the following values for every module:\n",
    "- average grade\n",
    "- maximum grade\n",
    "- minimum grade"
   ]
  },
  {
   "cell_type": "code",
   "execution_count": 140,
   "metadata": {},
   "outputs": [
    {
     "name": "stdout",
     "output_type": "stream",
     "text": [
      "you will now enter info for 5 students\n",
      "\n",
      "\n",
      "student 0\n",
      "name: Jabril\n",
      "as integer - enter age: 20\n",
      "as integer - android grade as integer value: 15\n",
      "as integer - Data Mining grade as integer value: 19\n",
      "as integer - zythologie grade as integer value: 21\n",
      "as integer - reseau grade as integer value: 9\n",
      "as integer - maths grade as integer value: 0\n",
      "\n",
      "\n",
      "student 1\n",
      "name: Paul\n",
      "as integer - enter age: 21\n",
      "as integer - android grade as integer value: 0\n",
      "as integer - Data Mining grade as integer value: 0\n",
      "as integer - zythologie grade as integer value: 0\n",
      "as integer - reseau grade as integer value: 0\n",
      "as integer - maths grade as integer value: 0\n",
      "\n",
      "\n",
      "student 2\n",
      "name: Maxence\n",
      "as integer - enter age: 21\n",
      "as integer - android grade as integer value: 0\n",
      "as integer - Data Mining grade as integer value: 0\n",
      "as integer - zythologie grade as integer value: 20\n",
      "as integer - reseau grade as integer value: 20\n",
      "as integer - maths grade as integer value: 0\n",
      "\n",
      "\n",
      "student 3\n",
      "name: Tho-mas\n",
      "as integer - enter age: 20\n",
      "as integer - android grade as integer value: 20\n",
      "as integer - Data Mining grade as integer value: 20\n",
      "as integer - zythologie grade as integer value: 0\n",
      "as integer - reseau grade as integer value: 20\n",
      "as integer - maths grade as integer value: 20\n",
      "\n",
      "\n",
      "student 4\n",
      "name: Romain\n",
      "as integer - enter age: 0\n",
      "as integer - android grade as integer value: 0\n",
      "as integer - Data Mining grade as integer value: 0\n",
      "as integer - zythologie grade as integer value: 0\n",
      "as integer - reseau grade as integer value: 0\n",
      "as integer - maths grade as integer value: 0\n",
      "\n",
      "\n",
      "\n",
      "\n",
      "Jabril data: \n",
      "avg grade : 12.8\n",
      "max grade : 21\n",
      "min grade : 0\n",
      "\n",
      "Paul data: \n",
      "avg grade : 0.0\n",
      "max grade : 0\n",
      "min grade : 0\n",
      "\n",
      "Maxence data: \n",
      "avg grade : 8.0\n",
      "max grade : 20\n",
      "min grade : 0\n",
      "\n",
      "Tho-mas data: \n",
      "avg grade : 16.0\n",
      "max grade : 20\n",
      "min grade : 0\n",
      "\n",
      "Romain data: \n",
      "avg grade : 0.0\n",
      "max grade : 0\n",
      "min grade : 0\n"
     ]
    }
   ],
   "source": [
    "# -*- coding: utf-8 -*-\n",
    "\n",
    "modules = {\"maths\", \"Data Mining\", \"reseau\", \"android\", \"zythologie\"}\n",
    "\n",
    "\n",
    "class Student:\n",
    "    def __init__(self, name, age, grades):\n",
    "        self.name = name\n",
    "        self.age = age\n",
    "        self.grades = grades\n",
    "\n",
    "    def print_key_data(self):\n",
    "        print(\"\\n{} data: \".format(self.name))\n",
    "        print(\"avg grade : {}\".format(sum(self.grades.values())/len(self.grades.values())))\n",
    "        print(\"max grade : {}\".format(max(self.grades.values())))\n",
    "        print(\"min grade : {}\".format(min(self.grades.values())))\n",
    "\n",
    "def get_int_input(label=\"\"):\n",
    "    readValue = \"notDigit\"\n",
    "    while not readValue.isdigit():\n",
    "        readValue = input(\"as integer - {}\".format(label))\n",
    "    return int(readValue)\n",
    "\n",
    "\n",
    "def get_students(nb_students):\n",
    "    StudentData = []\n",
    "    print(\"you will now enter info for {} students\".format(nb_students))\n",
    "    for i in range(nb_students):\n",
    "        print(\"\\n\\nstudent {}\".format(i))\n",
    "        name = input(\"name: \")\n",
    "        age = get_int_input(label=\"enter age: \")\n",
    "        mods = dict()\n",
    "        for module in modules:\n",
    "            readValue = get_int_input(\"{} grade as integer value: \".format(module))\n",
    "            mods[module] = readValue\n",
    "        StudentData.append(Student(name, age, mods))\n",
    "    return StudentData\n",
    "\n",
    "\n",
    "if __name__ == \"__main__\":\n",
    "    students = get_students(5)\n",
    "    print(\"\\n\\n\")\n",
    "    for student in students:\n",
    "        student.print_key_data()"
   ]
  },
  {
   "cell_type": "markdown",
   "metadata": {},
   "source": [
    "# Exercise 5"
   ]
  },
  {
   "cell_type": "markdown",
   "metadata": {},
   "source": [
    "## 1. Files"
   ]
  },
  {
   "cell_type": "code",
   "execution_count": 73,
   "metadata": {
    "collapsed": true
   },
   "outputs": [],
   "source": [
    "message = \"Bonjour le monde\"\n",
    "with open(\"bonjour.txt\", \"w\") as file:\n",
    "    file.write(message)\n",
    "file.close()"
   ]
  },
  {
   "cell_type": "code",
   "execution_count": 74,
   "metadata": {},
   "outputs": [
    {
     "name": "stdout",
     "output_type": "stream",
     "text": [
      "Bonjour le monde\n"
     ]
    }
   ],
   "source": [
    "with open(\"bonjour.txt\", \"r\") as file:\n",
    "    text = file.read()\n",
    "    print(text)\n",
    "file.close()"
   ]
  },
  {
   "cell_type": "code",
   "execution_count": 76,
   "metadata": {},
   "outputs": [
    {
     "name": "stdout",
     "output_type": "stream",
     "text": [
      "Bonjour le monde Programmation en Python\n"
     ]
    }
   ],
   "source": [
    "message1 = \"Bonjour le monde\"\n",
    "message2 = \"Programmation en Python\"\n",
    "with open(\"bonjour.txt\", \"w\") as file:\n",
    "    file.write(message1)\n",
    "    file.write(message2)\n",
    "file.close()\n",
    "\n",
    "with open(\"bonjour.txt\", \"r\") as file:\n",
    "    text = file.read()\n",
    "    print(text)\n",
    "file.close()"
   ]
  },
  {
   "cell_type": "code",
   "execution_count": 77,
   "metadata": {},
   "outputs": [
    {
     "name": "stdout",
     "output_type": "stream",
     "text": [
      "Bonjour le monde\n",
      "Programmation en Python\n"
     ]
    }
   ],
   "source": [
    "message1 = \"Bonjour le monde\\n\"\n",
    "message2 = \"Programmation en Python\"\n",
    "with open(\"bonjour.txt\", \"w\") as file:\n",
    "    file.write(message1)\n",
    "    file.write(message2)\n",
    "file.close()\n",
    "with open(\"bonjour.txt\", \"r\") as file:\n",
    "    text = file.read()\n",
    "    print(text)\n",
    "file.close()"
   ]
  },
  {
   "cell_type": "markdown",
   "metadata": {},
   "source": [
    "## 2. readline()"
   ]
  },
  {
   "cell_type": "code",
   "execution_count": 78,
   "metadata": {},
   "outputs": [
    {
     "name": "stdout",
     "output_type": "stream",
     "text": [
      "Bonjour le monde\n",
      "\n"
     ]
    }
   ],
   "source": [
    "message1 = \"Bonjour le monde\\n\"\n",
    "message2 = \"Programmation en Python\"\n",
    "with open(\"bonjour.txt\", \"w\") as file:\n",
    "    file.write(message1)\n",
    "    file.write(message2)\n",
    "file.close()\n",
    "with open(\"bonjour.txt\", \"r\") as file:\n",
    "    text = file.readline()\n",
    "    print(text)\n",
    "file.close()"
   ]
  },
  {
   "cell_type": "code",
   "execution_count": 81,
   "metadata": {},
   "outputs": [
    {
     "name": "stdout",
     "output_type": "stream",
     "text": [
      "Bonjour le monde\n",
      "\n",
      "Programmation en Python\n",
      "\n"
     ]
    }
   ],
   "source": [
    "message1 = \"Bonjour le monde\\n\"\n",
    "message2 = \"Programmation en Python\\n\"\n",
    "with open(\"bonjour.txt\", \"w\") as file:\n",
    "    file.write(message1)\n",
    "    file.write(message2)\n",
    "file.close()\n",
    "\n",
    "with open(\"bonjour.txt\", \"r\") as file:\n",
    "    for line in file:\n",
    "        print(line)\n",
    "file.close()"
   ]
  },
  {
   "cell_type": "markdown",
   "metadata": {},
   "source": [
    "### Question: Copy any HTML file in your home directory. Write a program in Python to get the following values:\n",
    "- number of characters in the HTML file\n",
    "- number of lines in the HTML file\n",
    "- number of words in the HTML file\n",
    "- first twenty words in the HTML file\n",
    "- distinct words in the HTML file"
   ]
  },
  {
   "cell_type": "code",
   "execution_count": 121,
   "metadata": {},
   "outputs": [
    {
     "name": "stdout",
     "output_type": "stream",
     "text": [
      "number of characters in the HTML file: 86326\n",
      "number of lines in the HTML file: 376\n",
      "number of words in the HTML file: 15056\n",
      "first twenty words in the HTML file: ['b', 'DOCTYPE', 'html', 'n', 'saved', 'from', 'url', '0050', 'https', 'en', 'wikipedia', 'org', 'wiki', 'Tab', 'separated_values', 'n', 'html', 'class', 'client', 'js']\n",
      "distinct words in the HTML file: {'22M174', 'li', '662L4', 'form', 'toolbar', '09', 'toc', '22square', 'class', '625em', 'xdb', 'one', 'Monetary', 'files', '1000000', 'span', 'accesskey', 'wgPopupsReferencePreviews', 'generator', '23eaecf0', 'wgMediaViewerEnabledByDefault', 'c', '20fill', '23c8ccd1', '20encoding', 'cputime', 'Talk', 'underline', 'extract', 'wikimedia', '50', '978', '2278', 'centralNotice', 'contentSub', 'License', '416', 'rasterized', 'align', 't3', 'image', '20d', 'Since', 'MediaWiki', 'mainEntity', 'tabs', 'scope', '6', 'Current_events', 'top', 'Nov', 'newline', 'gnome', 'copyright', '20', 'Visit', 'pageLanguageDir', '64285714em', 'interlanguage', 'dd3333', 'medium', '2254', 'hreflang', '2z', 'linked', '2291', '1x1', 'stored', '226', '2H4a2', 'limitreport', 'inset', 'x87', 'line', 'structure', 'SpecialPages', 'close', 'tooltipTail', 'wgPageContentModel', 'what', '2014', 'special', 'ui', 'Fran', '2232', 'Digital', 'simply', 'n5', '5h2v1H9z', 'last', 'will', 'D1', 'u', 'xd8', '0zm', '2284', 'd6', 'cite_note', 'ol', 'Contributors', 'width', 'thus', 'standard', 'encyclopedia', 't', 'Data_exchange', 'x86', '2233', 'publisher', 'overlay', 'mw1320', 'also', 'D9', '22evenodd', '2211', '3h', 'Fund', 'referer', '44', 'wgCategories', '0v20h10a2', 'static', 'about', 'profit', 'walltime', 'available', 'contents', 'x85', '23c', 'template', 'targetLoader', 'cell', 'postexpandincludesize', 'Escape_character', 'where', '48px', 'Template', '14em', 'Standard', '2220', 'yes', '1c', '000', 'Wikimedia', 'defs', 'settingsFormSeparator', 'navigation', 'http', 'ru', 'box', '071', 'tPrint', 'BE', 'xba', 'pageVariantFallbacks', 'b', 'File_Upload_Wizard', '10px', 'Language', 'to', '2422553', '0v2h11v14h2V2a2', '21px', 'Types', '1s', 'both', 'x83', 'International', 'discussion', 'menu', '2249', 'd25f1', 'rotate', 'collapsible', 'programs', '45deg', 'a', 'B1_', 'spaces', '208', '8l1', 'May', 'wgAction', 'Q3513566', 'memory', 'x94', 'AA', 'subject', '021', '00', 'containing', 'which', 'xe7', 'nCached', 'highlight', 'redirect', 'wl', 'searchInput', '4zm8', '17px', 'Database', 'client', '2097152', '100ms', '2zM9', '5c2', 'UTF', 'searchform', 'Russian', 'ppvisitednodes', 'February', '66', '555', 'plain', 'I', 'simple', 'new', 'io', 'Text', '2px', 'Bibliography', 'Template_other', '20200202044155', '130', 'oldid', 'require', 'Mar', 'Cookie', '85714286em', 'dl', '309l', '95v2', 'B4', 'account', 'nbsp', 'xe8', '303a4', '16H2V8h16z', '0', 'flex', 'load', 'xb6', 'Enable', 'might', 'desktopArticleTarget', 'connected', 'xlink', '22M20', 't1', 'red', '65em', 'contentinfo', 'E5', '4a4', 'row', 'Wikisource', 'count', 'tffin', 'within', 'conversion', 'separated', '23ff00af', 'skinning', 'quotes', 's', 'login', 'variants', 'IP', 'because', 'n100', '447ff5', '2000', '0050', 'startUp', 'perform', '1ggpAICkAAL6ifywAAABV', 'wgRelevantArticleId', '999px', 'free', '3Asid', 'pcache', '22b', 'tTools', 'permalink', 'cx', 'timingprofile', 'png', '90px', 'IANA', 'assignments', 'simpleSearch', '78', 'next', '2s', 'September', 'wiki', 'wgRelevantPageName', 'Main_other', 'July', 'stroke', 'currentevents', '8h294l8', '503', '2h6v1H6zm7', 'stedolan', 'carriage', 'foundation', 'genre', '309', 'A6', 'hide', 'aa', '2237', '512', '61', 'E8', 'Related', 'apply', 'wgDigitTransformTable', 'url', '3366cc', 'sizing', 'You', 'Dec', 'wizard', '87', 'registration', '9px', '41L2', 'recent', 'xa3', 'user', 'wgCanonicalSpecialPageName', 're', '6L7', 'nExpensive', 'xa1t', 'type', 'Wikipedia_files', '2V5a2', 'backslash', 'implement', 'eaecf0', 'o', 'storing', 'tooltip', 'flower', 'ctx_ver', '2em', '2Fassignments', '2230', 'fade', '2Fmedia', '205', 'x97', 'MyLanguage', '22a', '3', 'wgRevisionId', '2a7', 'an', 'Xj', '22utf', '2', 'Ukrainian', '22M9', '2h4v1H4zm0', 'Example', 'Wikidata', 'IANA_2', 'radius', '22M4', 'edited', 'AF', '93z', '2ec7d', 'cachereport', '12px', 'Create', 'See_also', 'vectorMenu', 'ld', 'found', 'xb8', 'src', '222222', '401', 'green', 'By', 'FundraiserRedirector', '0D', 'Upload', 'transfer', 'wikimediaBadges', '28IANA', 'limit', 'nCache', '22', 'clippath', 'RLPAGEMODULES', 'height', 'tI', 'edits', '0_Unported_License', '2V4a2', 'lossless', '1V5h', 'BB', 'tr', 'widely', 'xc2', 'Linear', 'places', '10T17', '2024', '230', 'Sep', 'rendering', '1l2', 'languages', 'n', '2267', 'book_creator', 'agree', 'hidden', 'ico', '2Fwww', '430', 'dir', 'jtitle', 'below', 'ElectronPdf', '20viewBox', '12', 'collapse', '3s1', 'shop', 'or', 'false', 'visible', 'wb', 'statslink', '3Cpath', '10T09', 'is', 'exchange', 'x96', '4l', 'k', 'opensearchdescription', 'value', 'vary', '1V5s1', '23b', 'October', 'CentralAutoLogin', 'tools', 'U', 'List', 'family', '6L3', 'Gopher', 'toctogglespan', 'canonical', '2271', 'store', '8c', 'justify', 'Featured', '982px', '56', 'coll', 'Iris_flower_data_set', '2zm7', '22179', 'fr', '71em', '2v12a1', '4zm', 'DRN', 'contact', '1em', 'rule', 'wmf', 'language', 'lock', 'rel', 'tabular', '32px', 'subscription', '8h690v992H0z', 'field', 'r935243608', 'nNewPP', 'Feb', 'page', 'output', 'filtersuggestion', 'alternate', 'Code', 'searchButton', 'vectorTabs', 'entityaccesscount', 'editableContent', 'def', 'campaigns', '350px', 'position', '25px', '028l1', '95', 'For', 'wgMFDisplayWikibaseDescriptions', '15px', 'mandatory', 'pageLanguageCode', '1993', 'focus', 'Information', 'cs1', 'A1', 'body', 'Lindner', 'github', 'bar', 'ShareAlike_3', '2zm2', 'targeted', 'article', 'Policy', 'rl', '978z', '2019', 'Filename', 'atitle', 'wgCSPNonce', '2224', 'empty', 'privacy', '5H14a4', '876L14', '41L15', 'group', 'pBody', 'f', 'Past', 'w3', 'with', 'divider', 'Aug', '7', 'Gnumeric', 'Contact_us', '3Fxml', 'mainpage', 'xc3', 'best', 'Terms', 'poweredby_mediawiki_88x31', '537', 'grey', 'headline', 'specialpages', 'can', '2252', 'need', 'bottom', '5v', '6l1', 'skin', 'node', '85', 'disabled', 'overflow', '07l', 'Saved', 'xa0', 'Character', '22M13', '150px', 'license', 'button', 'sitelinks', 'interaction', 'absolute', 'html', 'The', 'inline', '22199', 'main', '0zm5', 'document', 'insideWindow', 'Variants', 'events', 'lists', 'webkit', 'Cookie_statement', 'how', 'wgPopupsConflictsWithNavPopupGadget', 'commonPrint', '2Fen', 'but', 'search', 'ux', 'xb9', '28tsv', '6h6v1H6zm0', 'enwiki', 'fff', 'BD', 'return', 'wgRequestId', 'nav', 'wgMediaViewerOnClick', 'uselang', '3F', 'h2', 'so', 'simplicity', '23f8f9fa', '215px', '111', 'crossorigin', 'sitedir', 'B7', 'enhancements', 'was', 'max', '3ATab', 'wgBreakFrames', 'inner', 'nDynamic', 'idhash', 'Log', '624', 'entities', 'Go', 'wgULSCurrentAutonym', '26px', 'monospace', 'margin', 'when', 'wgEditSubmitButtonLabelPublish', 'xd0', '35em', 'returnto', '94', '15em', 'action', '2231', 'collision', 'deactivating', 'Media_type', '2372777d', 'aria', 'placeholder', 'argument', '5h54', 'prefetch', 'Table', 'repository', 'featuredcontent', '1brao', 'wikitext', 'Iris', 'Each', 'Z3988', 'arrow', 'accessibility', 'cross', 'gradient', '2Ftab', 'it', 'down', 'portlet', 'xa8', '55px', 'articles', 'RLSTATE', 'TemplateStyles', '255', 'progressive', 'Wikibase', 'organization', 'A7', 'under', 'img', '22M17', 'after', 'inputWidget', 'mask', 'dotted', 'lang', 'utm_medium', 'x90expand', '28', 'float', 'information', '712l1', 'section', 'expansiondepth', '2016c', '22em', 'extiw', 'A7_', 'portal', 'sans', 'nomin', 'pages', 'lastmod', '021zm9', 'logo', 'rt', '43', 'xc4', 'weight', '668zm0', '9l', 'wgWMESchemaEditAttemptStepOversample', 'href', '2251', '180px', '18', 'xbb', 'Main_Page', '988z', '222', 'thumb', '525', '36em', 'start', 'Contact', 'x9a', 'are', 'Retrieved', 'convention', '8zM5', 'x90revision', 'modules', '8h974v992H0z', '1L8', 'and', '3Ajournal', 'Category', 'tbody', '20version', '203z', 'bytes', 'datov', 'shadow', 'WhatLinksHere', 'aea9e', 'svg', 'IE', 'opacity', 'all', 'shared', 'rft_id', 'tInteraction', '5h4v1H4zm0', 'organized', 'delimiter', '2h16a2', 'loaded', 'Row_', 'revisions', 'loader', 'jump', 'indent', 'exists', 'iVBORw0KGgoAAAANSUhEUgAAABQAAAAUBAMAAAB', '2v14a2', 'What', 'Table_', 'lt', 'cn', 'print_export', '400', 'wgIsProbablyEditable', 'read', 'conversions', 'Views', '247', '2259', 'ReferenceTooltips', '45px', 'use', 'rft', 'bookcmd', '9oe1vvAAAABnRSTlMA3rLe3rJS22KzAAAARElEQVQI12PAAUIUQCSTK5BwFgIxFU1AhKECUFAYKAAioXwwBeZChMGCEGGQIFQYJohgIhQgtCEMQ7ECYTHCOciOxA4AADgJTXIb9s8AAAAASUVORK5CYII', '35', 'default', 'D0', 'globalCssJs', '9375em', 'select', '981', 'cache', 'MyTalk', 'toctoggle', '300px', 'a2a9b1', '82', 'scroll', '223', 'selector', 'B6', 'caption', '22230', 'xaf', '67', '112', 'data', '6L13', 'do', 'app', 'cannot', 'extensions', 'api', 'transform', 'pt', '22matrix', 'checkbox', 'json', 'space', 'visualClear', '823a2', '5z', '9A', 'anontalk', 'closeButton', 'set', 'Team', 'Tab_characters', 'Printable', 'className', 'E7', 'General', 'loading', 'printfooter', '0c1', 'interwiki', 'footer', 'utm_source', 'dataprotocols', 'See', '80', 'xe2', '22none', 'create_a_book', '05v', 'from', 'indicators', 'Guides', 'siteSub', '4c1', 'show', 'Escape', 'x90sha1', 'English', 'tNavigation', 'ResourceLoaderDynamicStyles', 'extension', 'tPetal', '0a2', 'config', 'ebb8e', '22108', 'gadget', 'create', 'break', 'referrer', 'vertical', '203', '25em', 'spreadsheet', 'p', 'xbe', 'favicon', 'application', '281', 'Load', 'meta', 'DB', '3zM12', 'nUnstrip', 'characters', '444444', 'tokens', 'Download', 'unstrip', 'Spreadsheet', '22158', 'null', 'fulltext', '52428800', 'h1', 'display', '201', 'Use', 'report', '2867', '8h174l8', '250ms', 'computer', '73', 'Discussion', '2273', '021zm', 'toctitle', '668', 'tut', '290px', 'watchToken', '9', 'zoom', '943', 'nHighest', 'tSpecies', '947', '159', '2v18l4', 'Species', 'error', 'geoIP', 'style', '22201', 'quiet', '10', 'jkorpela', 'xc5', '41', 'sidebar', '87_', 'xa1tina', 'min', '293px', 'callout', 'dns', '227', 'iana', '2272', 'editpage', 'alternative', 'Cite', 'cs', 'RecentChangesLinked', 'MN', 'poweredby_mediawiki_132x47', 'RLCONF', '22http', 'common', 'CreateAccount', 'Petal', 'wbc', '11', 'Values', 'unknown', 'PDF', 'January', 'd', '028', 'EntityPage', 'wikidata', 'Numbers', '5em', '875em', '23a2a9b1', 'Guidance', 'links', 'policy', 'active', '88', 'D8', 'here', 'External_links', 'Separated', 'wgSeparatorTransformTable', 'HTML', 'pwA', 'font', 'cite', 'browsing', '4px', 'toggle_view_mobile', 'scribunto', 'Korpela', 'very', 'wgTitle', 'post', 'cactions', '99999px', '8h10l8', 'module', '2354595d', 'oo', '3c', 'External', 'general', 'x8ce', 'notice', 'wgNoticeProject', 'gray', '669', 'bodyContent', 'update', 'A8', 'large', 'dmy', 'wgCanonicalNamespace', 'xe6', 'Conventions', 'rft_val_fmt', 'bidi', 'enableSelect', 'following', 'index', '3C', 'move', 'copyrightico', 'memusage', 'init', 'trademark', 'window', '2234', '01', 'transparent', 'c8ccd1', 'these', '27px', 'Commons', '6px', '1000px', 'resources', '5zM18', 'linecap', '29', 'How', 'note', 'animation', 'v2', 'Developers', 'Privacy', 'alt', 'mode', 'created', 'white', 'www', '93', '2238', 'nPreprocessor', 'info', 'key', 'infobox', '05', 'important', '1500000', 'views', 'xb7', '22133', '3em', '2266', 'Page', 'xac', 'xa7ais', 'ms', 'find', 'wikimediaEvents', '4h14a2', 'address', '20px', 'extra', 'International_standard', '8h3l', '1999', 'nadditional', 'editable', 'tocnumber', 'before', 'ul', '2245', 'f8f9fa', '54595d', 'xb3', '3E', '931L17', 'on', 'v', 'noprint', '285', 'visualEditor', 'Portal', 'Text_of_Creative_Commons_Attribution', '3Cdefs', 'recentchangeslinked', 'https', '2592000', 'Help', 'watchlist', 'description', '08', '23ffc057', '3px', 'solid', 'UniversalLanguageSelector', 'preview', '303', '78L9', '2004', '02', 'wgCentralAuthMobileDomain', 'character', '14px', 'small', 'comma', '9l1', '83', 'nofollow', 'Jump', 'icons', 'projects', 'Apr', '4h4v5h', 'visited', '35z', 'nTransclusion', '18H18a2', 'pointer', 'talk', 'escape', 'streams', 'clip', 'styles', 'vectorMenuCheckbox', 'download', '3H4', 'B1', 'progressBarWidget', 'us', 'destructive', '336', '96', 'changes', 'Article', '90e9b', 'revision', 'stylesheet', 'centralAuthPPersonalAnimation', 'first', 'hover', 'not', 'tsv', '140px', 'terms', '2005', 'wgPageContentLanguage', 'running', 'Random', 'ltr', 'lcd', 'fa', 'Read', 'Main', '2219', 'padding', '07', '1px', 'whatlinkshere', 'Mobile', 'the', '2285', 'cy', 'causes', 'panel', 'googpub', 'multiplatform', 'fi', 'generated', 'color', 'separated_values', '16px', 'legacy', 'compact', 'Namespaces', 'see', '39', '303L11', 'wikimediafoundation', 'sameAs', 'labelledby', '36c', '205h', '2210', 'buttons', 'Text_file', 'xa7', 'view', 'relative', 'parser', 'contain', '5v10A1', 'Jul', 'history', 'ImageObject', 'cursor', '320px', '156', '22135', 'EditURI', 'project', 'Creative', 'Find', 'tooltipContent', 'nNumber', 'more', 'fallbackSearchButton', 'xad', 'Special', 'nCPU', '17h2', '3Ctitle', 'out', 'Spreadsheet_file_formats', 'UTC', 'switcher', 'above', 'skins', 'documentElement', 'Jan', 'right', 'stops', 'Type', '876', 'header', '100px', 'div', 'toctogglelabel', 'usage', 'target', '6l', 'js', '3Ccircle', '57142857em', 'compactlinks', 'things', 'imf', 'exchanging', '06', 'expansion', '417px', 'using', 'journal', 'fixed', 'eventlogging', 'Content', 'code', 'file', 'poweredbyico', 'title', '81', 'utm_campaign', 'AC', 'International_Monetary_Fund', 'Z39', 'Navigation', '22c', 'news', '617', 'block', 'toctogglecheckbox', 'wrapper', 'textInputWidget', 'Permanent', 'centralautologin', '33aa33', '3Crect', 'e226b', 'Files', '53Z', 'sad', 'external', 'infrequent', 'siteNotice', 'ext', 'CSV', '3Cg', 'input', 'This', 'Edit', 'be', '3A', 'clear', '40Z', '06A1', 'appearance', 'Foundation', 'centralauth', 'commas', 'randompage', 'Tab', 'supported', 'emptyPortlet', 'b32424', 'nLua', 'Paul', 'jq', '169', 'convert', '86', '200px', 'nstab', 'UserLogin', 'rsd', 'About', 'different', 'support', 'Published', '22167', 'CiteThisPage', 'Internet_Assigned_Numbers_Authority', 'How_to_contribute', 'isolate', '334', 'licenses', '2H1v15h4a7', '5632', '5c', 'e', 'wgUserName', 'Filename_extension', 'list', 'citation', 'serial', 'General_disclaimer', 'noscript', 'x93', '31', 'tab', 'MIME', '16', 'schema', '34L4', '13px', 'role', '009', '60px', 'mediawiki', 'timeusage', 'dd', 'Tabulation', 'way', '2V3a2', '22M2', '40', 'n4', 'popups', '4007', 'Lock', 'current', 'zh', 'background', 'RLQ', 'size', '10l', 'made', 'formats', 'Persian', 'left', '394L8', 'limited', 'xb1', '2336c', 'submit', 'may', 'disambiguation', 'Data', '2h4V2zm2', 'References', 'paulfitz', 'x81', 'h3', '2299', '17', 'expiry', 'Featured_content', '65', 'serif', 'Contributions', 'Statistics', 'non', 'label', 'TSV_', 'Comma', '200', '23a', '22M11', 'border', '2292', 'xb0', 'entity', '8zm7', 'Sepal', 'Organization', 'sa', 'that', 'base64', 'wgIsRedirect', 'rgba', 'Current', '3D', '2213', 'Jukka', '42px', 'Infobox', 'anoncontribs', 'opensearch_desc', 'viewBox', 'wrap', 'center', 'firstHeading', 'wgIsArticle', 'fields', '34', '179', 'text', 'Authority', 'wgHostname', 'AAAAElBMVEUAAAAQEBDPz88AAABAQEDv7', 'xd1', 'RecentChanges', '2a2', 'by', 'container', 'mobileview', 'ease', 'contactpage', '5zM6', '007zM7', '15', 'toctext', 'dt', 'ready', 'in', 'aboutsite', 'databases', 'script', '2F2000', 'difficulties', '2217', 'b0c8e', 'BD_form', 'activated', 'xa1', '135deg', '13', '2v2', '20a2', '8px', 'record', 'commons', '1', 'transientcontent', 'toclevel', '363', 'bold', 'disclaimer', 'cookiestatement', 'March', 'nTemplate', 'anonymous', 'time', 'screen', 'bracket', 'Not', 'r', '8H8V7h5zm3', '800', 'tagline', 'site', 'depth', 'tocsection', 'xe4', '2v12a2', 'flip', 'database', '93l12', 'saved', 'moz', 'html5shiv', 'stopMobileRedirectToggle', 'print', 'Czech', 'wgPageParseReport', 'if', 'Character_literal', 'C3', 'MB', 'mwe', 'ca', 'manual', 'Contents', 'settingsLink', 'Wikipedia', 'pypi', 'users', 'uneditableContent', 'references', 'Book', 'rect', '2h9v1H4z', 'Recent', 'tb', '2H2zm4', 'disabledHelp', '981l', 'literal', '2F', '2H8V5h8z', 'wikibase', 'x', 'wgWikibaseItemId', 'startup', 'x8f', 'xmlns', 'Digital_container_format', 'catlinks', 'ShareAlike', 'wikipedia', '517', 'icon', 'Disclaimers', 'Inc', 'A1t', 'tempWikitextEditorWidget', 'images', 'pre', 'Delimiter', 'April', '20xmlns', '500', 'author', '3Aofi', 'middle', '242px', '11px', 'Link', 'htm', '75em', 'fill', 'disabledNote', '51', 'poweredby_mediawiki_176x62', '225', 'big', 'B5', 'equiv', 'Privacy_policy', 'toolbarPlaceholder', 'French', 'recentchanges', '4l1', 'tochidden', 'Tab_key', 'Definition', 'export', 'up', 'origin', 'xe5', 'lib', 'forwards', 'M0', 'inherit', '202', 'xa6', '38', 'previews', 'navigationTiming', '84', 'wgPageName', '9z', 'upload', 'wgDefaultDateFormat', 'transition', 'View', 'File', '420px', 'x8e', 'wgRelevantPageIsProbablyEditable', 'wgVisualEditor', 'wikitable', 'Conventions_for_lossless_conversion_to_TSV', 'Jun', 'Value', 'head', 'reference', 'decoration', 'nParsed', 'nThe', 'shift', '2Fsvg', 'wgRestrictionMove', 'link', '450px', '23fff', 'jQuery', '22M15', 'a28d5', '876a4', 'timestamp', 'unicode', 'shortcut', 'xae', 'developers', 'stats', 'linear', 'back', 'stable', 'B0', 'Personal', 'TSV', 'BC', 'id', 'kern', 'donate', '8F_', '1798401', 'normal', 'ffffff', 'y', 'q', 'Terms_of_Use', '4z', 'for', 'options', 'November', 'media', '2zm1', 'charset', 'php', 'expensivefunctioncount', 'w', '276', 'createaccount', 'repeat', '25', '447', 'newspaper', 'push', '5', 'polyline', 'android', '2h11v4H6zm0', '2h6v1H6zm0', '100', 'help', 'often', '28px', '688L5', 'td', 'quicksurveys', 'Categories', 'child', '4', '70', 'wgRestrictionEdit', 'h', 'August', '2a4b8d', 'item', '5x', 'Cite_web', 'necessary', '30px', 'gnumeric', 'backlink', '14', 'Delimiter_collision', 'sitesupport', 'wgNamespaceNumber', 'outline', '2h10a2', 'z', 'nReal', '3Cuse', 'achieves', '735', '5000000', 'book', '97', 'context', 'namespaces', 'random', 'templateargumentsize', 'calls', 'selected', 'activating', 'tSepal', '110', '221', 'printable', 'values', '2v13a2', '8E', 'nearby', 'Donate', 'CentralNotice', 'creativecommons', '2Ffmt', 'nPost', 'elt', 'xb4', '211', '96_', '5A1', 'translate', 'mw1331', '47px', '4em', 'June', 'you', 'element', 'Format', 'as', 'vector', 'From', 'edit', 'xbc', '5h2', 'this', '109', 'path', 'wgMonthNames', 'region', 'program', 'content', 'xml', 'of', 'eee', '2Ftext', 'setosa', '23555', '20H5V0H3', 'recursion', 'ppgeneratednodes', 'registered', 'between', '43em', '72', 've', '0A', 'anonuserpage', 'x8c', '64', '6em', 'wgMonthNamesShort', 'format', '3Akev', 'trigger', 'face', 'editsection', 'tooltipsForCommentsField', '10V1H5a2', '000000', 'base', 'datePublished', '18px', '2281', '8F', '8H0z', 'table', 'xbd', '321', '8h810v992H0z', 'used', 'Media', 'DOCTYPE', 'total', 'A', 'More', 'th', 'maint', 'exact', 'wgBackendResponseTime', 'MyContributions', 'December', 'Attribution', 'editfont', 'xd9', '22156', 'log', 'landscape', '4c', 'i', 'function', '2214', 'touch', '72777d', '2h9v1H4zm0', 'interface', 'nowrap', 'Chinese', '2V2a2', 'word', 'open', 'Support', '423', 'ws', 'logged', 'xe9', '35a4', 'Community_portal', 'seconds', 'results', 'numberInput', '3Csvg', 'm', 'length', '674', '220', '2235', '2x', 'g', 'dateModified', 'corresponds', 'wgUserGroups', 'ff4242', '712', 'org', '930114126', 'types', '206', 'shoplink', 'flipped', 'Row', 'web', 'Assigned', 'Community', '07000000000000001', '554a5', 'at', '5px', 'E9', 'pygments', '40px', 'banner', 'personal', 'ttl', 'tLanguages', '22M5', 'nComplications', 'rtl', '22translate', '1l', 'eventLogging', 'deduplicate', 'settings', 'rfr_id', '113', 'uls', 'disallowing', 'tall', 'wgArticleId', 'go', 'C13_en', 'no', '0h1000v242H190l', 'translateY', '22M10', 'cite_ref', 'refToolbar', 'Internet', 't0', 'browser', 'Search', 'To', '3Amtx', '007', 'encouraged', 'selection', '22169', 'include', 'patrolToken', '35C5', 'ns', 'hor', 'xb5', 'statement', 'rx', 'amp', '999', 'Infobox_file_format', 'async', '484', 'example', 'apple', 'endif', 'version', 'Powered', '24px', '5h4v5H9zM4', 'x80', '691l1', 'langlinks', 'items', 'none', 'separated_format', 'wgCurRevisionId', 'rootpage', 'srcset', 'sup', '8C', 'csrfToken', 'however', '192', 'generic', 'mobileaction', 'x82', 'duration', 'mw', 'xaa', '7px', '49', 'name', 'Container', 'surface', '8', 'Oct', '2268', 'uk', 'j', '1000', 'en', 'charinsert', 'auto', 'keyframes', 'x88'}\n"
     ]
    }
   ],
   "source": [
    "# -*- coding: utf-8 -*-\n",
    "\n",
    "import re\n",
    "regex = r'\\w+'\n",
    "\n",
    "nbChar = 0\n",
    "nbLine = 0\n",
    "words = []\n",
    "\n",
    "with open(\"HTML.html\", \"rb\") as file:\n",
    "    for line in file:\n",
    "        nbChar += len(line)\n",
    "        nbLine += 1\n",
    "        \n",
    "    #reset the cursor to the begining of the file\n",
    "    file.seek(0)\n",
    "    \n",
    "    #parse word using a regular expression\n",
    "    words = re.findall(regex, str(file.read()))\n",
    "    \n",
    "file.close()\n",
    "\n",
    "print(\"number of characters in the HTML file: \" + str(nbChar))\n",
    "print(\"number of lines in the HTML file: \" + str(nbLine))\n",
    "print(\"number of words in the HTML file: \" + str(len(words)))\n",
    "print(\"first twenty words in the HTML file: \" + str(words[:20]))\n",
    "print(\"distinct words in the HTML file: \" + str(set(words)))"
   ]
  },
  {
   "cell_type": "markdown",
   "metadata": {},
   "source": [
    "Question: Copy CSV file in your home directory. The file contains the population values between 1901 and 2016. Write a\n",
    "program in Python to get the maximum value.\n",
    "- the maximum value of population\n",
    "- the minimum value of population"
   ]
  },
  {
   "cell_type": "code",
   "execution_count": 118,
   "metadata": {},
   "outputs": [
    {
     "name": "stdout",
     "output_type": "stream",
     "text": [
      "the maximum value of population: 66632870\n",
      "the minimum value of population: 40681000\n"
     ]
    }
   ],
   "source": [
    "minValue = 0;\n",
    "maxMalue = 0;\n",
    "i = 0;\n",
    "\n",
    "with open(\"population.csv\", \"r\") as file:\n",
    "    for line in file:\n",
    "        if(i>0):\n",
    "            value = int(line.split(\",\")[1])\n",
    "            if(i==1 or value < minValue): #min = first value or lowest one\n",
    "                minValue = value\n",
    "            if(i==1 or value > maxMalue): #max = first value or highest one\n",
    "                maxMalue = value\n",
    "        i += 1\n",
    "file.close()\n",
    "\n",
    "print(\"the maximum value of population: \" + str(maxMalue))\n",
    "print(\"the minimum value of population: \" + str(minValue))"
   ]
  },
  {
   "cell_type": "markdown",
   "metadata": {
    "collapsed": true
   },
   "source": [
    "# TP 1.B"
   ]
  },
  {
   "cell_type": "markdown",
   "metadata": {},
   "source": [
    "## 1.1"
   ]
  },
  {
   "cell_type": "code",
   "execution_count": 9,
   "metadata": {
    "scrolled": false
   },
   "outputs": [
    {
     "name": "stdout",
     "output_type": "stream",
     "text": [
      "['clear_data_home', 'dump_svmlight_file', 'fetch_20newsgroups', 'fetch_20newsgroups_vectorized', 'fetch_lfw_pairs', 'fetch_lfw_people', 'fetch_olivetti_faces', 'fetch_species_distributions', 'fetch_california_housing', 'fetch_covtype', 'fetch_rcv1', 'fetch_kddcup99', 'fetch_openml', 'get_data_home', 'load_boston', 'load_diabetes', 'load_digits', 'load_files', 'load_iris', 'load_breast_cancer', 'load_linnerud', 'load_sample_image', 'load_sample_images', 'load_svmlight_file', 'load_svmlight_files', 'load_wine', 'make_biclusters', 'make_blobs', 'make_circles', 'make_classification', 'make_checkerboard', 'make_friedman1', 'make_friedman2', 'make_friedman3', 'make_gaussian_quantiles', 'make_hastie_10_2', 'make_low_rank_matrix', 'make_moons', 'make_multilabel_classification', 'make_regression', 'make_s_curve', 'make_sparse_coded_signal', 'make_sparse_spd_matrix', 'make_sparse_uncorrelated', 'make_spd_matrix', 'make_swiss_roll']\n"
     ]
    }
   ],
   "source": [
    "from sklearn import datasets\n",
    "print(datasets.__all__)"
   ]
  },
  {
   "cell_type": "markdown",
   "metadata": {},
   "source": [
    "## 1.2"
   ]
  },
  {
   "cell_type": "code",
   "execution_count": 24,
   "metadata": {
    "scrolled": true
   },
   "outputs": [
    {
     "name": "stdout",
     "output_type": "stream",
     "text": [
      "[('ENIAC coding system', 1943) ('ENIAC Short Code', 1946)\n",
      " ('Von Neumann and Goldstine graphing system', 1946)\n",
      " ('ARC Assembly', 1947) ('PlankalkÃ¼l', 1948) ('CPC Coding scheme', 1948)\n",
      " ('Curry notation system', 1948) ('Short Code', 1949)\n",
      " ('assembly language', 1949) ('Short Code', 1950) ('G-code', 1950)\n",
      " ('Birkbeck Assembler', 1950) ('Superplan', 1951) ('ALGAE', 1951)\n",
      " ('Intermediate Programming Language', 1951)\n",
      " ('Regional Assembly Language', 1951)\n",
      " ('Boehm unnamed coding system', 1951) ('KlammerausdrÃ¼cke', 1951)\n",
      " ('OMNIBAC Symbolic Assembler', 1951) ('Stanislaus', 1951)\n",
      " ('Whirlwind assembler', 1951) ('Rochester assembler', 1951)\n",
      " ('Sort Merge Generator', 1951) ('autocode', 1952) ('A-0 System', 1952)\n",
      " ('Editing Generator', 1952) ('COMPOOL', 1952) ('Speedcoding', 1953)\n",
      " ('READ/PRINT', 1953) ('Fortran', 1954) ('ARITH-MATIC', 1954)\n",
      " ('autocode', 1954) ('Laning and Zierler system', 1954)\n",
      " ('MATH-MATIC', 1954) ('MATRIX MATH', 1954) ('FLOW-MATIC', 1955)\n",
      " ('PACT', 1955) ('BACAIC', 1955) ('Freiburger Code', 1955)\n",
      " ('Sequentielle FormelÃ¼bersetzung', 1955) ('Internal Translator', 1955)\n",
      " ('PRINT', 1955) ('Information Processing Language', 1956)\n",
      " ('FORTRAN for the IBM 704', 1956) ('Fortran', 1957) ('COMTRAN', 1957)\n",
      " ('GEORGE', 1957) ('UNICODE', 1957) ('ALGOL 58', 1958) ('Lisp', 1958)\n",
      " ('ALGOL', 1958) ('FORTRAN III', 1958) ('FORTRAN II', 1958)\n",
      " ('JOVIAL', 1959) ('TRAC', 1959) ('COBOL', 1959) ('MAD', 1959)\n",
      " ('Lisp', 1959) ('FACT', 1959) ('COBOL', 1960) ('ALCOR', 1960)\n",
      " ('ALGOL 60', 1960) ('FORTRAN IV', 1961) ('TECO', 1962) ('SNOBOL', 1962)\n",
      " ('APL', 1962) ('Simula', 1962) ('CORC', 1962) ('CPL', 1963)\n",
      " ('JOSS', 1963) ('Pâ€²â€²', 1964) ('Report Program Generator', 1964)\n",
      " ('TRAC', 1964) ('BASIC', 1964) ('COWSEL', 1964) ('MARK IV', 1964)\n",
      " ('MIMIC', 1964) ('PL/I', 1964) ('Speakeasy', 1964) ('IBM RPG II', 1965)\n",
      " ('Atlas Autocode', 1965) ('TELCOMP', 1965) ('Euler', 1966)\n",
      " ('ISWIM', 1966) ('ALGOL W', 1966)\n",
      " ('Massachusetts General Hospital Utility Multi-Programming System', 1966)\n",
      " ('JOSS', 1966) ('Coral 66', 1966) ('BCPL', 1966) ('APL', 1966)\n",
      " ('FORTRAN 66', 1966)\n",
      " ('Massachusetts General Hospital Utility Multi-Programming System', 1967)\n",
      " ('Hop', 1967) ('XPL', 1967) ('Interlisp', 1967) ('BCPL', 1967)\n",
      " ('Simula', 1967) ('Space Programming Language', 1967) ('PILOT', 1968)\n",
      " ('ALGOL 68', 1968)]\n"
     ]
    }
   ],
   "source": [
    "import numpy as np\n",
    "dataset = np.loadtxt(\"pl.csv\", dtype={'names': ('name', 'year'), 'formats': ('U100', 'i4')},\n",
    "   skiprows=1, delimiter=\",\")\n",
    "print(dataset)"
   ]
  },
  {
   "cell_type": "code",
   "execution_count": 25,
   "metadata": {
    "scrolled": true
   },
   "outputs": [
    {
     "name": "stdout",
     "output_type": "stream",
     "text": [
      "[('ENIAC coding system', 1943) ('ENIAC Short Code', 1946)\n",
      " ('Von Neumann and Goldstine graphing system', 1946)\n",
      " ('ARC Assembly', 1947) ('Plankalkül', 1948) ('CPC Coding scheme', 1948)\n",
      " ('Curry notation system', 1948) ('Short Code', 1949)\n",
      " ('assembly language', 1949) ('Short Code', 1950)\n",
      " ('Birkbeck Assembler', 1950) ('G-code', 1950) ('Superplan', 1951)\n",
      " ('ALGAE', 1951) ('Intermediate Programming Language', 1951)\n",
      " ('Regional Assembly Language', 1951)\n",
      " ('Boehm unnamed coding system', 1951) ('Klammerausdrücke', 1951)\n",
      " ('OMNIBAC Symbolic Assembler', 1951) ('Stanislaus', 1951)\n",
      " ('Whirlwind assembler', 1951) ('Rochester assembler', 1951)\n",
      " ('Sort Merge Generator', 1951) ('Editing Generator', 1952)\n",
      " ('COMPOOL', 1952) ('autocode', 1952) ('A-0 System', 1952)\n",
      " ('READ/PRINT', 1953) ('Speedcoding', 1953) ('Fortran', 1954)\n",
      " ('MATRIX MATH', 1954) ('autocode', 1954) ('ARITH-MATIC', 1954)\n",
      " ('Laning and Zierler system', 1954) ('MATH-MATIC', 1954)\n",
      " ('FLOW-MATIC', 1955) ('BACAIC', 1955) ('Freiburger Code', 1955)\n",
      " ('Sequentielle Formelübersetzung', 1955) ('Internal Translator', 1955)\n",
      " ('PRINT', 1955) ('PACT', 1955) ('Information Processing Language', 1956)\n",
      " ('FORTRAN for the IBM 704', 1956) ('Fortran', 1957) ('UNICODE', 1957)\n",
      " ('COMTRAN', 1957) ('GEORGE', 1957) ('ALGOL 58', 1958) ('Lisp', 1958)\n",
      " ('FORTRAN III', 1958) ('FORTRAN II', 1958) ('ALGOL', 1958)\n",
      " ('JOVIAL', 1959) ('TRAC', 1959) ('COBOL', 1959) ('Lisp', 1959)\n",
      " ('MAD', 1959) ('FACT', 1959) ('COBOL', 1960) ('COBOL', 1960)\n",
      " ('ALGOL 60', 1960) ('ALCOR', 1960) ('FORTRAN IV', 1961) ('SNOBOL', 1962)\n",
      " ('TECO', 1962) ('Simula', 1962) ('APL', 1962) ('CORC', 1962)\n",
      " ('CPL', 1963) ('JOSS', 1963) ('P′′', 1964)\n",
      " ('Report Program Generator', 1964) ('TRAC', 1964) ('BASIC', 1964)\n",
      " ('COWSEL', 1964) ('PL/I', 1964) ('MARK IV', 1964) ('MIMIC', 1964)\n",
      " ('Speakeasy', 1964) ('IBM RPG II', 1965) ('Atlas Autocode', 1965)\n",
      " ('TELCOMP', 1965) ('Euler', 1966) ('ISWIM', 1966) ('ALGOL W', 1966)\n",
      " ('JOSS', 1966)\n",
      " ('Massachusetts General Hospital Utility Multi-Programming System', 1966)\n",
      " ('BCPL', 1966) ('Coral 66', 1966) ('FORTRAN 66', 1966) ('APL', 1966)\n",
      " ('Hop', 1967)\n",
      " ('Massachusetts General Hospital Utility Multi-Programming System', 1967)\n",
      " ('Space Programming Language', 1967) ('BCPL', 1967) ('Interlisp', 1967)\n",
      " ('Simula', 1967) ('XPL', 1967) ('PILOT', 1968)]\n"
     ]
    }
   ],
   "source": [
    "import numpy as np\n",
    "dataset = np.loadtxt(\"pl.tsv\", dtype={'names': ('name', 'year'), 'formats': ('U100', 'i4')},\n",
    "   skiprows=1, delimiter=\"\\t\", encoding=\"UTF-8\")\n",
    "print(dataset)"
   ]
  },
  {
   "cell_type": "markdown",
   "metadata": {},
   "source": [
    "## 1.3"
   ]
  },
  {
   "cell_type": "code",
   "execution_count": 26,
   "metadata": {
    "scrolled": true
   },
   "outputs": [
    {
     "name": "stdout",
     "output_type": "stream",
     "text": [
      "                                languageLabel  year\n",
      "0                         ENIAC coding system  1943\n",
      "1                            ENIAC Short Code  1946\n",
      "2   Von Neumann and Goldstine graphing system  1946\n",
      "3                                ARC Assembly  1947\n",
      "4                                 PlankalkÃ¼l  1948\n",
      "..                                        ...   ...\n",
      "95                                       BCPL  1967\n",
      "96                                  Interlisp  1967\n",
      "97                                     Simula  1967\n",
      "98                                        XPL  1967\n",
      "99                                      PILOT  1968\n",
      "\n",
      "[100 rows x 2 columns]\n"
     ]
    }
   ],
   "source": [
    "from pandas import json_normalize\n",
    "import pandas as pd\n",
    "import json\n",
    "\n",
    "data = json.load(open('pl.json'))\n",
    "dataframe = json_normalize(data)\n",
    "print(dataframe)"
   ]
  },
  {
   "cell_type": "markdown",
   "metadata": {},
   "source": [
    "## 1.4"
   ]
  },
  {
   "cell_type": "code",
   "execution_count": 27,
   "metadata": {},
   "outputs": [
    {
     "name": "stdout",
     "output_type": "stream",
     "text": [
      "    year                              languageLabel\n",
      "0   1942                                 Plankalkül\n",
      "1   1943                        ENIAC coding system\n",
      "2   1946  Von Neumann and Goldstine graphing system\n",
      "3   1946                           ENIAC Short Code\n",
      "4   1947                               ARC Assembly\n",
      "..   ...                                        ...\n",
      "95  1968                                   Analitik\n",
      "96  1968                                      DIBOL\n",
      "97  1968                                  TREE-META\n",
      "98  1968                                      Forth\n",
      "99  1968                                       Logo\n",
      "\n",
      "[100 rows x 2 columns]\n"
     ]
    }
   ],
   "source": [
    "import urllib.request\n",
    "import json\n",
    "import pandas as pd\n",
    "\n",
    "url = \"https://query.wikidata.org/sparql?query=SELECT%20%3FlanguageLabel%20(YEAR(%3Finception)%20as%20%3Fyear)%0AWHERE%0A%7B%0A%20%20%23instances%20of%20programming%20language%0A%20%20%3Flanguage%20wdt%3AP31%20wd%3AQ9143%3B%0A%20%20%20%20%20%20%20%20%20%20%20%20wdt%3AP571%20%3Finception%3B%0A%20%20%20%20%20%20%20%20%20%20%20%20rdfs%3Alabel%20%3FlanguageLabel.%0A%20%20FILTER(lang(%3FlanguageLabel)%20%3D%20%22en%22)%0A%7D%0AORDER%20BY%20%3Fyear%0ALIMIT%20100&format=json\"\n",
    "response = urllib.request.urlopen(url)\n",
    "responsedata = json.loads(response.read().decode('utf-8'))\n",
    "\n",
    "array = []\n",
    "\n",
    "for data in responsedata['results']['bindings']:\n",
    "  array.append([data['year']['value'], data['languageLabel']['value']])\n",
    "dataframe = pd.DataFrame(array, columns=['year', 'languageLabel'])\n",
    "dataframe = dataframe.astype(dtype= {\"year\":\"<i4\", \"languageLabel\":\"<U200\"})\n",
    "print(dataframe)"
   ]
  },
  {
   "cell_type": "markdown",
   "metadata": {},
   "source": [
    "## 1.5"
   ]
  },
  {
   "cell_type": "code",
   "execution_count": 5,
   "metadata": {},
   "outputs": [
    {
     "name": "stdout",
     "output_type": "stream",
     "text": [
      "    year                              languageLabel\n",
      "0   1942                                 Plankalkül\n",
      "1   1943                        ENIAC coding system\n",
      "2   1946                           ENIAC Short Code\n",
      "3   1946  Von Neumann and Goldstine graphing system\n",
      "4   1947                               ARC Assembly\n",
      "..   ...                                        ...\n",
      "95  1968                                        TTM\n",
      "96  1968                                       CICS\n",
      "97  1968                                      CMS-2\n",
      "98  1968                                      Forth\n",
      "99  1968                                      DIBOL\n",
      "\n",
      "[100 rows x 2 columns]\n",
      "      languageLabel\n",
      "year               \n",
      "1942              1\n",
      "1943              1\n",
      "1946              2\n",
      "1947              1\n",
      "1948              2\n",
      "1949              2\n",
      "1950              2\n",
      "1951             11\n",
      "1952              4\n",
      "1953              2\n",
      "1954              6\n",
      "1955              8\n",
      "1956              1\n",
      "1957              3\n",
      "1958              3\n",
      "1959              5\n",
      "1960              3\n",
      "1962              4\n",
      "1963              2\n",
      "1964              9\n",
      "1965              3\n",
      "1966              7\n",
      "1967              7\n",
      "1968             11\n",
      "     languageLabel\n",
      "             count\n",
      "year              \n",
      "1942             1\n",
      "1943             1\n",
      "1946             2\n",
      "1947             1\n",
      "1948             2\n",
      "1949             2\n",
      "1950             2\n",
      "1951            11\n",
      "1952             4\n",
      "1953             2\n",
      "1954             6\n",
      "1955             8\n",
      "1956             1\n",
      "1957             3\n",
      "1958             3\n",
      "1959             5\n",
      "1960             3\n",
      "1962             4\n",
      "1963             2\n",
      "1964             9\n",
      "1965             3\n",
      "1966             7\n",
      "1967             7\n",
      "1968            11\n"
     ]
    }
   ],
   "source": [
    "import urllib.request\n",
    "import json\n",
    "import pandas as pd\n",
    "\n",
    "url = \"https://query.wikidata.org/sparql?query=SELECT%20%3FlanguageLabel%20(YEAR(%3Finception)%20as%20%3Fyear)%0AWHERE%0A%7B%0A%20%20%23instances%20of%20programming%20language%0A%20%20%3Flanguage%20wdt%3AP31%20wd%3AQ9143%3B%0A%20%20%20%20%20%20%20%20%20%20%20%20wdt%3AP571%20%3Finception%3B%0A%20%20%20%20%20%20%20%20%20%20%20%20rdfs%3Alabel%20%3FlanguageLabel.%0A%20%20FILTER(lang(%3FlanguageLabel)%20%3D%20%22en%22)%0A%7D%0AORDER%20BY%20%3Fyear%0ALIMIT%20100&format=json\"\n",
    "response = urllib.request.urlopen(url)\n",
    "responsedata = json.loads(response.read().decode('utf-8'))\n",
    "\n",
    "array = []\n",
    "\n",
    "for data in responsedata['results']['bindings']:\n",
    "  array.append([data['year']['value'], data['languageLabel']['value']])\n",
    "dataframe = pd.DataFrame(array, columns=['year', 'languageLabel'])\n",
    "dataframe = dataframe.astype(dtype= {\"year\":\"<i4\", \"languageLabel\":\"<U200\"})\n",
    "print(dataframe)\n",
    "\n",
    "grouped = dataframe.groupby('year').count()\n",
    "print(grouped)\n",
    "\n",
    "grouped = dataframe.groupby('year').agg(['count'])\n",
    "print(grouped)"
   ]
  },
  {
   "cell_type": "code",
   "execution_count": 3,
   "metadata": {},
   "outputs": [
    {
     "name": "stdout",
     "output_type": "stream",
     "text": [
      "                                            languageLabel\n",
      "                                                    count\n",
      "year paradigmLabel                                       \n",
      "1948 procedural programming                             1\n",
      "1949 non-structured programming                         1\n",
      "     procedural programming                             1\n",
      "1950 procedural programming                             1\n",
      "1953 procedural programming                             1\n",
      "...                                                   ...\n",
      "1970 imperative programming                             1\n",
      "     procedural programming                             1\n",
      "     structured programming                             1\n",
      "1971 functional programming                             1\n",
      "     knowledge representation and reasoning             1\n",
      "\n",
      "[73 rows x 1 columns]\n",
      "                            languageLabel\n",
      "                                    count\n",
      "paradigmLabel          year              \n",
      "array programming      1954             1\n",
      "                       1957             1\n",
      "                       1962             1\n",
      "                       1966             1\n",
      "assembly language      1956             1\n",
      "...                                   ...\n",
      "structured programming 1957             1\n",
      "                       1958             1\n",
      "                       1962             1\n",
      "                       1966             1\n",
      "                       1970             1\n",
      "\n",
      "[73 rows x 1 columns]\n"
     ]
    }
   ],
   "source": [
    "from pandas.io.json import json_normalize\n",
    "import pandas as pd\n",
    "import json\n",
    "\n",
    "jsondata = json.load(open('plparadigm.json'))\n",
    "array = []\n",
    "\n",
    "for data in jsondata:\n",
    "    array.append([data['year'], data['languageLabel'], data['paradigmLabel']])\n",
    "dataframe = pd.DataFrame(array, columns=['year', 'languageLabel', 'paradigmLabel'])\n",
    "dataframe = dataframe.astype(dtype= {\"year\" : \"int64\", \"languageLabel\" : \"<U200\", \"paradigmLabel\" : \"<U200\"})\n",
    "\n",
    "grouped = dataframe.groupby(['year', 'paradigmLabel']).agg(['count'])\n",
    "print(grouped)\n",
    "\n",
    "grouped = dataframe.groupby(['paradigmLabel', 'year']).agg(['count'])\n",
    "print(grouped)"
   ]
  },
  {
   "cell_type": "markdown",
   "metadata": {},
   "source": [
    "### Now, compute and display the following information"
   ]
  },
  {
   "cell_type": "markdown",
   "metadata": {},
   "source": [
    "#### The population of countries in alphabetical order of their names and ascending order of year."
   ]
  },
  {
   "cell_type": "code",
   "execution_count": 11,
   "metadata": {},
   "outputs": [
    {
     "name": "stdout",
     "output_type": "stream",
     "text": [
      "     countryLabel  year  population\n",
      "0     Afghanistan  1960     8774440\n",
      "1     Afghanistan  1961     8953544\n",
      "2     Afghanistan  1962     9141783\n",
      "3     Afghanistan  1963     9339507\n",
      "4     Afghanistan  1964     9547131\n",
      "..            ...   ...         ...\n",
      "995  Burkina Faso  1992     9297116\n",
      "996  Burkina Faso  1993     9552473\n",
      "997  Burkina Faso  1994     9816586\n",
      "998  Burkina Faso  1995    10089876\n",
      "999  Burkina Faso  1996    10372562\n",
      "\n",
      "[1000 rows x 3 columns]\n"
     ]
    }
   ],
   "source": [
    "data = json.load(open('query.json', 'rb'))\n",
    "dataframe = pd.json_normalize(data)\n",
    "dataframe = dataframe.astype(dtype= {\"year\" : \"int64\", \"countryLabel\" : \"<U200\", \"population\" : \"int64\"})\n",
    "\n",
    "print(dataframe.sort_values(by=['countryLabel', 'year'], ascending = True))"
   ]
  },
  {
   "cell_type": "markdown",
   "metadata": {},
   "source": [
    "#### The latest available population of every country"
   ]
  },
  {
   "cell_type": "code",
   "execution_count": 12,
   "metadata": {},
   "outputs": [
    {
     "name": "stdout",
     "output_type": "stream",
     "text": [
      "                     year  population\n",
      "countryLabel                         \n",
      "Afghanistan          2018     8774440\n",
      "Algeria              2017    11277757\n",
      "Angola               2017     4965988\n",
      "Antigua and Barbuda  2017       54681\n",
      "Argentina            2019     3954911\n",
      "Artsakh              2012      137700\n",
      "Australia            2017    22637127\n",
      "Austria              2017     7047539\n",
      "Bahamas              2017      109526\n",
      "Bahrain              2017      162501\n",
      "Bangladesh           2017    49537147\n",
      "Barbados             2017      230858\n",
      "Benin                2017     2431620\n",
      "Bhutan               2017      224155\n",
      "Bolivia              2017     3353125\n",
      "Botswana             2017      524173\n",
      "Brazil               2018    72775883\n",
      "Brunei               2017       81817\n",
      "Bulgaria             2017     7867374\n",
      "Burkina Faso         1996     4829291\n"
     ]
    }
   ],
   "source": [
    "print(dataframe.groupby('countryLabel').agg({'year': 'max', 'population': 'first'}))"
   ]
  },
  {
   "cell_type": "markdown",
   "metadata": {},
   "source": [
    "#### The country with the lowest and highest population (considering the latest population)"
   ]
  },
  {
   "cell_type": "code",
   "execution_count": 13,
   "metadata": {},
   "outputs": [
    {
     "name": "stdout",
     "output_type": "stream",
     "text": [
      "Brazil\n",
      "Antigua and Barbuda\n"
     ]
    }
   ],
   "source": [
    "dataframe = dataframe.astype(dtype= {\"year\" : \"int64\", \"population\" : \"int64\", \"countryLabel\" : \"<U200\"})\n",
    "group = dataframe.groupby(['countryLabel']).agg({'population': 'first','year': 'max'})\n",
    "\n",
    "# get the index position of max values in every column\n",
    "idxMax = group['population'].idxmax()\n",
    "idxMin = group['population'].idxmin()\n",
    "\n",
    "print(idxMax)\n",
    "print(idxMin)"
   ]
  },
  {
   "cell_type": "markdown",
   "metadata": {},
   "source": [
    "### Now, compute and display the following information"
   ]
  },
  {
   "cell_type": "markdown",
   "metadata": {},
   "source": [
    "#### The number of articles published on different subjects every year."
   ]
  },
  {
   "cell_type": "code",
   "execution_count": 8,
   "metadata": {},
   "outputs": [
    {
     "name": "stdout",
     "output_type": "stream",
     "text": [
      "   subjectLabel  year  title\n",
      "0        Africa  2013      3\n",
      "1        Africa  2014      4\n",
      "2        Africa  2015      4\n",
      "3        Africa  2016      1\n",
      "4        Africa  2017      7\n",
      "5        Africa  2018      6\n",
      "6        Africa  2019      6\n",
      "7        Canada  2011    126\n",
      "8        Canada  2012    180\n",
      "9        Canada  2013    157\n",
      "10       Canada  2014    103\n",
      "11       Canada  2015    166\n",
      "12       Canada  2016    182\n",
      "13       Canada  2017     16\n",
      "14       Canada  2018     28\n",
      "15        death  2011      1\n",
      "16        death  2012      1\n",
      "17        death  2015      2\n",
      "18        death  2016      2\n",
      "19    happiness  2011      1\n",
      "20        human  2014      2\n",
      "21        human  2018      2\n"
     ]
    }
   ],
   "source": [
    "data = json.load(open('query2.json', 'rb'))\n",
    "dataframe = pd.json_normalize(data)\n",
    "dataframe = dataframe.astype(dtype= {\"year\" : \"int64\", \"title\" : \"<U200\", \"subjectLabel\" : \"<U200\"})\n",
    "\n",
    "grouped = dataframe.groupby(['subjectLabel', 'year']).count().reset_index()\n",
    "print(grouped)"
   ]
  },
  {
   "cell_type": "markdown",
   "metadata": {},
   "source": [
    "#### Top subject of interest to the scientific community every year(based on the above query results)"
   ]
  },
  {
   "cell_type": "code",
   "execution_count": 9,
   "metadata": {},
   "outputs": [
    {
     "name": "stdout",
     "output_type": "stream",
     "text": [
      "      title subjectLabel\n",
      "year                    \n",
      "2011    126       Canada\n",
      "2012    180       Canada\n",
      "2013    157       Africa\n",
      "2014    103       Africa\n",
      "2015    166       Africa\n",
      "2016    182       Africa\n",
      "2017     16       Africa\n",
      "2018     28       Africa\n",
      "2019      6       Africa\n"
     ]
    }
   ],
   "source": [
    "# title = titlecount\n",
    "result = grouped.groupby(['year']).agg({'title': 'max', 'subjectLabel': 'first'})\n",
    "print(result)"
   ]
  },
  {
   "cell_type": "markdown",
   "metadata": {},
   "source": [
    "#### Top 10 subjects of interest to the scientific community (based on the above query results) since 2010."
   ]
  },
  {
   "cell_type": "code",
   "execution_count": 10,
   "metadata": {
    "scrolled": true
   },
   "outputs": [
    {
     "name": "stdout",
     "output_type": "stream",
     "text": [
      "  subjectLabel  title\n",
      "0       Africa     31\n",
      "1       Canada    958\n",
      "2        death      6\n",
      "3    happiness      1\n",
      "4        human      4\n"
     ]
    }
   ],
   "source": [
    "grouped = dataframe.groupby(['subjectLabel']).agg({'title': 'count'}).reset_index()\n",
    "\n",
    "grouped.sort_values('title', ascending=False).head(10)\n",
    "print(grouped)"
   ]
  },
  {
   "cell_type": "code",
   "execution_count": null,
   "metadata": {},
   "outputs": [],
   "source": []
  }
 ],
 "metadata": {
  "kernelspec": {
   "display_name": "Python 3",
   "language": "python",
   "name": "python3"
  },
  "language_info": {
   "codemirror_mode": {
    "name": "ipython",
    "version": 3
   },
   "file_extension": ".py",
   "mimetype": "text/x-python",
   "name": "python",
   "nbconvert_exporter": "python",
   "pygments_lexer": "ipython3",
   "version": "3.7.6"
  }
 },
 "nbformat": 4,
 "nbformat_minor": 2
}
