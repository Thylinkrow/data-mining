{
 "cells": [
  {
   "cell_type": "markdown",
   "metadata": {},
   "source": [
    "# Exercise 1"
   ]
  },
  {
   "cell_type": "markdown",
   "metadata": {},
   "source": [
    "## 1. Comments"
   ]
  },
  {
   "cell_type": "code",
   "execution_count": 5,
   "metadata": {},
   "outputs": [
    {
     "name": "stdout",
     "output_type": "stream",
     "text": [
      "Bonjour\n"
     ]
    }
   ],
   "source": [
    "# This is a comment\n",
    "print(\"Bonjour\")"
   ]
  },
  {
   "cell_type": "markdown",
   "metadata": {},
   "source": [
    "## 2. Variables"
   ]
  },
  {
   "cell_type": "code",
   "execution_count": 6,
   "metadata": {},
   "outputs": [
    {
     "name": "stdout",
     "output_type": "stream",
     "text": [
      "le monde!\n"
     ]
    }
   ],
   "source": [
    "# a variable\n",
    "message = \"le monde!\"\n",
    "print(message)"
   ]
  },
  {
   "cell_type": "code",
   "execution_count": 7,
   "metadata": {},
   "outputs": [
    {
     "name": "stdout",
     "output_type": "stream",
     "text": [
      "30\n"
     ]
    }
   ],
   "source": [
    "a = 10\n",
    "b = 20\n",
    "c = a + b\n",
    "print(c)"
   ]
  },
  {
   "cell_type": "code",
   "execution_count": 8,
   "metadata": {},
   "outputs": [
    {
     "name": "stdout",
     "output_type": "stream",
     "text": [
      "3.14\n"
     ]
    }
   ],
   "source": [
    "# floating point numbers\n",
    "pi = 3.14\n",
    "print(pi)"
   ]
  },
  {
   "cell_type": "code",
   "execution_count": 9,
   "metadata": {},
   "outputs": [
    {
     "name": "stdout",
     "output_type": "stream",
     "text": [
      "<class 'str'>\n",
      "<class 'int'>\n",
      "<class 'float'>\n"
     ]
    }
   ],
   "source": [
    "# data types\n",
    "message1 = \"Bonjour\"\n",
    "a = 12\n",
    "pi = 3.14\n",
    "print(type(message1))\n",
    "print(type(a))\n",
    "print(type(pi))"
   ]
  },
  {
   "cell_type": "markdown",
   "metadata": {},
   "source": [
    "## 3. Concatenation of two strings"
   ]
  },
  {
   "cell_type": "code",
   "execution_count": 10,
   "metadata": {},
   "outputs": [
    {
     "name": "stdout",
     "output_type": "stream",
     "text": [
      "Bonjourle monde!\n"
     ]
    }
   ],
   "source": [
    "# concatenation of two strings\n",
    "message = \"le monde!\"\n",
    "print(\"Bonjour\" + message)"
   ]
  },
  {
   "cell_type": "code",
   "execution_count": 12,
   "metadata": {},
   "outputs": [
    {
     "name": "stdout",
     "output_type": "stream",
     "text": [
      "Bonjour le monde!\n"
     ]
    }
   ],
   "source": [
    "# concatenation of two strings\n",
    "message1 = \"Bonjour \"\n",
    "message2 = \"le monde!\"\n",
    "print(message1 + message2)"
   ]
  },
  {
   "cell_type": "code",
   "execution_count": 13,
   "metadata": {},
   "outputs": [
    {
     "ename": "TypeError",
     "evalue": "must be str, not int",
     "output_type": "error",
     "traceback": [
      "\u001b[1;31m---------------------------------------------------------------------------\u001b[0m",
      "\u001b[1;31mTypeError\u001b[0m                                 Traceback (most recent call last)",
      "\u001b[1;32m<ipython-input-13-54ad953b8971>\u001b[0m in \u001b[0;36m<module>\u001b[1;34m()\u001b[0m\n\u001b[0;32m      3\u001b[0m \u001b[0mmessage1\u001b[0m \u001b[1;33m=\u001b[0m \u001b[1;34m\"Bonjour en Python\"\u001b[0m\u001b[1;33m\u001b[0m\u001b[0m\n\u001b[0;32m      4\u001b[0m \u001b[0ma\u001b[0m \u001b[1;33m=\u001b[0m \u001b[1;36m3\u001b[0m\u001b[1;33m\u001b[0m\u001b[0m\n\u001b[1;32m----> 5\u001b[1;33m \u001b[0mprint\u001b[0m\u001b[1;33m(\u001b[0m\u001b[0mmessage1\u001b[0m \u001b[1;33m+\u001b[0m \u001b[0ma\u001b[0m\u001b[1;33m)\u001b[0m\u001b[1;33m\u001b[0m\u001b[0m\n\u001b[0m",
      "\u001b[1;31mTypeError\u001b[0m: must be str, not int"
     ]
    }
   ],
   "source": [
    "# concatenation involving two variables of different data types\n",
    "# operation + on two different data types\n",
    "message1 = \"Bonjour en Python\"\n",
    "a = 3\n",
    "print(message1 + a)"
   ]
  },
  {
   "cell_type": "code",
   "execution_count": 14,
   "metadata": {},
   "outputs": [
    {
     "name": "stdout",
     "output_type": "stream",
     "text": [
      "Bonjour en Python 3\n"
     ]
    }
   ],
   "source": [
    "# concatenation solution involving two variables of different data types\n",
    "message1 = \"Bonjour en Python \"\n",
    "a = 3\n",
    "print(message1 + str(a))"
   ]
  },
  {
   "cell_type": "markdown",
   "metadata": {},
   "source": [
    "## 4. Lists"
   ]
  },
  {
   "cell_type": "code",
   "execution_count": 15,
   "metadata": {},
   "outputs": [
    {
     "name": "stdout",
     "output_type": "stream",
     "text": [
      "[10, 20, 30, 40, 50]\n"
     ]
    }
   ],
   "source": [
    "a = [10, 20, 30, 40, 50]\n",
    "print(a)"
   ]
  },
  {
   "cell_type": "code",
   "execution_count": 16,
   "metadata": {},
   "outputs": [
    {
     "name": "stdout",
     "output_type": "stream",
     "text": [
      "10\n",
      "20\n",
      "30\n",
      "40\n",
      "50\n"
     ]
    }
   ],
   "source": [
    "a = [10, 20, 30, 40, 50]\n",
    "print(a[0])\n",
    "print(a[1])\n",
    "print(a[2])\n",
    "print(a[3])\n",
    "print(a[4])"
   ]
  },
  {
   "cell_type": "code",
   "execution_count": 17,
   "metadata": {},
   "outputs": [
    {
     "ename": "IndexError",
     "evalue": "list index out of range",
     "output_type": "error",
     "traceback": [
      "\u001b[1;31m---------------------------------------------------------------------------\u001b[0m",
      "\u001b[1;31mIndexError\u001b[0m                                Traceback (most recent call last)",
      "\u001b[1;32m<ipython-input-17-814ea6946ed1>\u001b[0m in \u001b[0;36m<module>\u001b[1;34m()\u001b[0m\n\u001b[0;32m      1\u001b[0m \u001b[0ma\u001b[0m \u001b[1;33m=\u001b[0m \u001b[1;33m[\u001b[0m\u001b[1;36m10\u001b[0m\u001b[1;33m,\u001b[0m \u001b[1;36m20\u001b[0m\u001b[1;33m,\u001b[0m \u001b[1;36m30\u001b[0m\u001b[1;33m,\u001b[0m \u001b[1;36m40\u001b[0m\u001b[1;33m,\u001b[0m \u001b[1;36m50\u001b[0m\u001b[1;33m]\u001b[0m\u001b[1;33m\u001b[0m\u001b[0m\n\u001b[1;32m----> 2\u001b[1;33m \u001b[0mprint\u001b[0m\u001b[1;33m(\u001b[0m\u001b[0ma\u001b[0m\u001b[1;33m[\u001b[0m\u001b[1;36m8\u001b[0m\u001b[1;33m]\u001b[0m\u001b[1;33m)\u001b[0m\u001b[1;33m\u001b[0m\u001b[0m\n\u001b[0m",
      "\u001b[1;31mIndexError\u001b[0m: list index out of range"
     ]
    }
   ],
   "source": [
    "a = [10, 20, 30, 40, 50]\n",
    "print(a[8])"
   ]
  },
  {
   "cell_type": "code",
   "execution_count": 18,
   "metadata": {},
   "outputs": [
    {
     "name": "stdout",
     "output_type": "stream",
     "text": [
      "B\n",
      "o\n",
      "n\n",
      "j\n",
      "o\n",
      "u\n",
      "r\n",
      " \n"
     ]
    }
   ],
   "source": [
    "message1 = \"Bonjour en Python \"\n",
    "print(message1[0])\n",
    "print(message1[1])\n",
    "print(message1[2])\n",
    "print(message1[3])\n",
    "print(message1[4])\n",
    "print(message1[5])\n",
    "print(message1[6])\n",
    "print(message1[7])"
   ]
  },
  {
   "cell_type": "code",
   "execution_count": 19,
   "metadata": {},
   "outputs": [
    {
     "name": "stdout",
     "output_type": "stream",
     "text": [
      "18\n"
     ]
    }
   ],
   "source": [
    "message1 = \"Bonjour en Python \"\n",
    "print(len(message1))"
   ]
  },
  {
   "cell_type": "code",
   "execution_count": 20,
   "metadata": {},
   "outputs": [
    {
     "name": "stdout",
     "output_type": "stream",
     "text": [
      "5\n"
     ]
    }
   ],
   "source": [
    "a = [10, 20, 30, 40, 50]\n",
    "print(len(a))"
   ]
  },
  {
   "cell_type": "code",
   "execution_count": 21,
   "metadata": {},
   "outputs": [
    {
     "name": "stdout",
     "output_type": "stream",
     "text": [
      "[10, 20, 30, 40, 50, 60]\n"
     ]
    }
   ],
   "source": [
    "a = [10, 20, 30, 40, 50]\n",
    "a.append(60)\n",
    "print(a)"
   ]
  },
  {
   "cell_type": "code",
   "execution_count": 22,
   "metadata": {},
   "outputs": [
    {
     "name": "stdout",
     "output_type": "stream",
     "text": [
      "[0, 20, 30, 40, 50]\n"
     ]
    }
   ],
   "source": [
    "a = [10, 20, 30, 40, 50]\n",
    "a[0] = 0\n",
    "print(a)"
   ]
  },
  {
   "cell_type": "code",
   "execution_count": 23,
   "metadata": {},
   "outputs": [
    {
     "ename": "IndexError",
     "evalue": "list assignment index out of range",
     "output_type": "error",
     "traceback": [
      "\u001b[1;31m---------------------------------------------------------------------------\u001b[0m",
      "\u001b[1;31mIndexError\u001b[0m                                Traceback (most recent call last)",
      "\u001b[1;32m<ipython-input-23-0fd17e0f4570>\u001b[0m in \u001b[0;36m<module>\u001b[1;34m()\u001b[0m\n\u001b[0;32m      1\u001b[0m \u001b[0ma\u001b[0m \u001b[1;33m=\u001b[0m \u001b[1;33m[\u001b[0m\u001b[1;36m10\u001b[0m\u001b[1;33m,\u001b[0m \u001b[1;36m20\u001b[0m\u001b[1;33m,\u001b[0m \u001b[1;36m30\u001b[0m\u001b[1;33m,\u001b[0m \u001b[1;36m40\u001b[0m\u001b[1;33m,\u001b[0m \u001b[1;36m50\u001b[0m\u001b[1;33m]\u001b[0m\u001b[1;33m\u001b[0m\u001b[0m\n\u001b[1;32m----> 2\u001b[1;33m \u001b[0ma\u001b[0m\u001b[1;33m[\u001b[0m\u001b[1;36m6\u001b[0m\u001b[1;33m]\u001b[0m \u001b[1;33m=\u001b[0m \u001b[1;36m20\u001b[0m\u001b[1;33m\u001b[0m\u001b[0m\n\u001b[0m\u001b[0;32m      3\u001b[0m \u001b[0mprint\u001b[0m\u001b[1;33m(\u001b[0m\u001b[0ma\u001b[0m\u001b[1;33m)\u001b[0m\u001b[1;33m\u001b[0m\u001b[0m\n",
      "\u001b[1;31mIndexError\u001b[0m: list assignment index out of range"
     ]
    }
   ],
   "source": [
    "a = [10, 20, 30, 40, 50]\n",
    "a[6] = 20\n",
    "print(a)"
   ]
  },
  {
   "cell_type": "code",
   "execution_count": 24,
   "metadata": {},
   "outputs": [
    {
     "name": "stdout",
     "output_type": "stream",
     "text": [
      "[0, 10, 20, 30, 40, 50]\n",
      "6\n"
     ]
    }
   ],
   "source": [
    "a = [10, 20, 30, 40, 50]\n",
    "a.insert(0, 0)\n",
    "print(a)\n",
    "print(len(a))"
   ]
  },
  {
   "cell_type": "code",
   "execution_count": 25,
   "metadata": {},
   "outputs": [
    {
     "name": "stdout",
     "output_type": "stream",
     "text": [
      "[10, 20, 30, 40, 50, 60]\n",
      "6\n"
     ]
    }
   ],
   "source": [
    "a = [10, 20, 30, 40, 50]\n",
    "a.insert(6,60)\n",
    "print(a)\n",
    "print(len(a))"
   ]
  },
  {
   "cell_type": "markdown",
   "metadata": {},
   "source": [
    "## 5. Tuples (non-modifiable lists)"
   ]
  },
  {
   "cell_type": "code",
   "execution_count": 26,
   "metadata": {},
   "outputs": [
    {
     "name": "stdout",
     "output_type": "stream",
     "text": [
      "(10, 20, 30, 40, 50)\n"
     ]
    }
   ],
   "source": [
    "a = (10, 20, 30, 40, 50)\n",
    "print(a)"
   ]
  },
  {
   "cell_type": "code",
   "execution_count": 27,
   "metadata": {},
   "outputs": [
    {
     "name": "stdout",
     "output_type": "stream",
     "text": [
      "10\n"
     ]
    }
   ],
   "source": [
    "a = (10, 20, 30, 40, 50)\n",
    "print(a[0])"
   ]
  },
  {
   "cell_type": "code",
   "execution_count": 28,
   "metadata": {},
   "outputs": [
    {
     "ename": "TypeError",
     "evalue": "'tuple' object does not support item assignment",
     "output_type": "error",
     "traceback": [
      "\u001b[1;31m---------------------------------------------------------------------------\u001b[0m",
      "\u001b[1;31mTypeError\u001b[0m                                 Traceback (most recent call last)",
      "\u001b[1;32m<ipython-input-28-68cc0e17294f>\u001b[0m in \u001b[0;36m<module>\u001b[1;34m()\u001b[0m\n\u001b[0;32m      1\u001b[0m \u001b[0ma\u001b[0m \u001b[1;33m=\u001b[0m \u001b[1;33m(\u001b[0m\u001b[1;36m10\u001b[0m\u001b[1;33m,\u001b[0m \u001b[1;36m20\u001b[0m\u001b[1;33m,\u001b[0m \u001b[1;36m30\u001b[0m\u001b[1;33m,\u001b[0m \u001b[1;36m40\u001b[0m\u001b[1;33m,\u001b[0m \u001b[1;36m50\u001b[0m\u001b[1;33m)\u001b[0m\u001b[1;33m\u001b[0m\u001b[0m\n\u001b[1;32m----> 2\u001b[1;33m \u001b[0ma\u001b[0m\u001b[1;33m[\u001b[0m\u001b[1;36m0\u001b[0m\u001b[1;33m]\u001b[0m \u001b[1;33m=\u001b[0m \u001b[1;36m0\u001b[0m\u001b[1;33m\u001b[0m\u001b[0m\n\u001b[0m\u001b[0;32m      3\u001b[0m \u001b[0mprint\u001b[0m\u001b[1;33m(\u001b[0m\u001b[0ma\u001b[0m\u001b[1;33m)\u001b[0m\u001b[1;33m\u001b[0m\u001b[0m\n",
      "\u001b[1;31mTypeError\u001b[0m: 'tuple' object does not support item assignment"
     ]
    }
   ],
   "source": [
    "a = (10, 20, 30, 40, 50)\n",
    "a[0] = 0\n",
    "print(a)"
   ]
  },
  {
   "cell_type": "markdown",
   "metadata": {},
   "source": [
    "## 6. Sets"
   ]
  },
  {
   "cell_type": "code",
   "execution_count": 29,
   "metadata": {},
   "outputs": [
    {
     "name": "stdout",
     "output_type": "stream",
     "text": [
      "{40, 10, 50, 20, 30}\n"
     ]
    }
   ],
   "source": [
    "a = {10, 20, 30, 40, 50, 10, 20, 30, 40, 50}\n",
    "print(a)"
   ]
  },
  {
   "cell_type": "code",
   "execution_count": 30,
   "metadata": {},
   "outputs": [
    {
     "name": "stdout",
     "output_type": "stream",
     "text": [
      "{40, 10, 50, 20, 30}\n"
     ]
    }
   ],
   "source": [
    "a = {10, 20, 30, 40, 50, 10, 20, 30, 40, 50}\n",
    "a.add(10)\n",
    "print(a)"
   ]
  },
  {
   "cell_type": "code",
   "execution_count": 31,
   "metadata": {},
   "outputs": [
    {
     "name": "stdout",
     "output_type": "stream",
     "text": [
      "{40, 10, 50, 20, 60, 30}\n"
     ]
    }
   ],
   "source": [
    "a = {10, 20, 30, 40, 50, 10, 20, 30, 40, 50}\n",
    "a.add(60)\n",
    "print(a)"
   ]
  },
  {
   "cell_type": "code",
   "execution_count": 32,
   "metadata": {},
   "outputs": [
    {
     "name": "stdout",
     "output_type": "stream",
     "text": [
      "{10, 50, 20, 30}\n"
     ]
    }
   ],
   "source": [
    "a = {10, 20, 30, 40, 50, 10, 20, 30, 40, 50}\n",
    "a.remove(40)\n",
    "print(a)"
   ]
  },
  {
   "cell_type": "code",
   "execution_count": 33,
   "metadata": {},
   "outputs": [
    {
     "name": "stdout",
     "output_type": "stream",
     "text": [
      "{40, 10, 50, 20, 30}\n",
      "<class 'set'>\n",
      "(10, 20, 30, 40, 50, 10, 20, 30, 40, 50)\n",
      "<class 'tuple'>\n",
      "[10, 20, 30, 40, 50, 10, 20, 30, 40, 50]\n",
      "<class 'list'>\n"
     ]
    }
   ],
   "source": [
    "# set\n",
    "a = {10, 20, 30, 40, 50, 10, 20, 30, 40, 50}\n",
    "print(a)\n",
    "print(type(a))\n",
    "# tuple\n",
    "b = (10, 20, 30, 40, 50, 10, 20, 30, 40, 50)\n",
    "print(b)\n",
    "print(type(b))\n",
    "# list\n",
    "c= [10, 20, 30, 40, 50, 10, 20, 30, 40, 50]\n",
    "print(c)\n",
    "print(type(c))"
   ]
  },
  {
   "cell_type": "markdown",
   "metadata": {},
   "source": [
    "# Exercise 2"
   ]
  },
  {
   "cell_type": "markdown",
   "metadata": {},
   "source": [
    "## 1. Conditional Expressions"
   ]
  },
  {
   "cell_type": "code",
   "execution_count": 45,
   "metadata": {},
   "outputs": [
    {
     "name": "stdout",
     "output_type": "stream",
     "text": [
      "12  is divisible by 2\n"
     ]
    }
   ],
   "source": [
    "a = 12\n",
    "if( a%2 == 0):\n",
    "    print(a, \" is divisible by 2\")\n",
    "else:\n",
    "    print(a, \" is not divisible by 2\")"
   ]
  },
  {
   "cell_type": "code",
   "execution_count": 44,
   "metadata": {},
   "outputs": [
    {
     "name": "stdout",
     "output_type": "stream",
     "text": [
      "Bonjour le monde!\n"
     ]
    }
   ],
   "source": [
    "lang = \"Français\"\n",
    "if (lang ==\"Français\"):\n",
    "    print(\"Bonjour le monde!\")\n",
    "else:\n",
    "    print(\"Hello World!\")"
   ]
  },
  {
   "cell_type": "markdown",
   "metadata": {},
   "source": [
    "## 2. Loops"
   ]
  },
  {
   "cell_type": "code",
   "execution_count": 41,
   "metadata": {},
   "outputs": [
    {
     "name": "stdout",
     "output_type": "stream",
     "text": [
      "10\n",
      "20\n",
      "30\n",
      "40\n",
      "50\n",
      "10\n",
      "20\n",
      "30\n",
      "40\n",
      "50\n"
     ]
    }
   ],
   "source": [
    "for i in [10, 20, 30, 40, 50, 10, 20, 30, 40, 50]:\n",
    "    print(i)"
   ]
  },
  {
   "cell_type": "code",
   "execution_count": 42,
   "metadata": {},
   "outputs": [
    {
     "name": "stdout",
     "output_type": "stream",
     "text": [
      "10\n",
      "20\n",
      "30\n",
      "40\n",
      "50\n",
      "10\n",
      "20\n",
      "30\n",
      "40\n",
      "50\n"
     ]
    }
   ],
   "source": [
    "for i in (10, 20, 30, 40, 50, 10, 20, 30, 40, 50):\n",
    "    print(i)"
   ]
  },
  {
   "cell_type": "code",
   "execution_count": 43,
   "metadata": {},
   "outputs": [
    {
     "name": "stdout",
     "output_type": "stream",
     "text": [
      "40\n",
      "10\n",
      "50\n",
      "20\n",
      "30\n"
     ]
    }
   ],
   "source": [
    "for i in {10, 20, 30, 40, 50, 10, 20, 30, 40, 50}:\n",
    "    print(i)"
   ]
  },
  {
   "cell_type": "markdown",
   "metadata": {},
   "source": [
    "## 2. Range"
   ]
  },
  {
   "cell_type": "code",
   "execution_count": 46,
   "metadata": {},
   "outputs": [
    {
     "name": "stdout",
     "output_type": "stream",
     "text": [
      "0\n",
      "1\n",
      "2\n",
      "3\n",
      "4\n",
      "5\n",
      "6\n",
      "7\n",
      "8\n",
      "9\n"
     ]
    }
   ],
   "source": [
    "for i in range(0,10):\n",
    "    print(i)"
   ]
  },
  {
   "cell_type": "code",
   "execution_count": 47,
   "metadata": {},
   "outputs": [
    {
     "name": "stdout",
     "output_type": "stream",
     "text": [
      "0\n",
      "2\n",
      "4\n",
      "6\n",
      "8\n"
     ]
    }
   ],
   "source": [
    "for i in range(0,10,2):\n",
    "    print(i)"
   ]
  },
  {
   "cell_type": "code",
   "execution_count": 48,
   "metadata": {},
   "outputs": [
    {
     "name": "stdout",
     "output_type": "stream",
     "text": [
      "0 2 4 6 8 "
     ]
    }
   ],
   "source": [
    "for i in range(0,10,2):\n",
    "    print(i, end=' ')"
   ]
  },
  {
   "cell_type": "code",
   "execution_count": 49,
   "metadata": {},
   "outputs": [
    {
     "name": "stdout",
     "output_type": "stream",
     "text": [
      "10\n",
      "8\n",
      "6\n",
      "4\n",
      "2\n"
     ]
    }
   ],
   "source": [
    "for i in range(10,0,-2):\n",
    "    print(i)"
   ]
  },
  {
   "cell_type": "code",
   "execution_count": 52,
   "metadata": {
    "collapsed": true
   },
   "outputs": [],
   "source": [
    "for i in range(10,0):\n",
    "    print(i)"
   ]
  },
  {
   "cell_type": "code",
   "execution_count": 51,
   "metadata": {},
   "outputs": [
    {
     "name": "stdout",
     "output_type": "stream",
     "text": [
      "Bonjour,le,monde!\n"
     ]
    }
   ],
   "source": [
    "for i in \"Bonjour,le,monde!\".split():\n",
    "    print(i)"
   ]
  },
  {
   "cell_type": "code",
   "execution_count": 58,
   "metadata": {},
   "outputs": [
    {
     "name": "stdout",
     "output_type": "stream",
     "text": [
      "Bonjour\n",
      "le\n",
      "monde!\n"
     ]
    }
   ],
   "source": [
    "for i in \"Bonjour,le,monde!\".split(\",\"):\n",
    "    print(i)"
   ]
  },
  {
   "cell_type": "code",
   "execution_count": 56,
   "metadata": {},
   "outputs": [
    {
     "name": "stdout",
     "output_type": "stream",
     "text": [
      "\n",
      "1\n",
      "12\n",
      "123\n",
      "1234\n",
      "12345\n",
      "123456\n",
      "1234567\n",
      "12345678\n"
     ]
    }
   ],
   "source": [
    "for i in range(9):\n",
    "    for j in range (i):\n",
    "        print((j+1),end=\"\")\n",
    "    print()"
   ]
  },
  {
   "cell_type": "markdown",
   "metadata": {},
   "source": [
    "# Exercise 3"
   ]
  },
  {
   "cell_type": "markdown",
   "metadata": {},
   "source": [
    "## 1. Sort"
   ]
  },
  {
   "cell_type": "code",
   "execution_count": 57,
   "metadata": {},
   "outputs": [
    {
     "name": "stdout",
     "output_type": "stream",
     "text": [
      "[10, 10, 20, 20, 30, 30, 40, 40, 50, 50]\n"
     ]
    }
   ],
   "source": [
    "num = [10, 20, 30, 40, 50, 10, 20, 30, 40, 50]\n",
    "num.sort()\n",
    "print(num)"
   ]
  },
  {
   "cell_type": "markdown",
   "metadata": {},
   "source": [
    "## 2. Sort (decreasing order)"
   ]
  },
  {
   "cell_type": "code",
   "execution_count": 59,
   "metadata": {},
   "outputs": [
    {
     "name": "stdout",
     "output_type": "stream",
     "text": [
      "[50, 50, 40, 40, 30, 30, 20, 20, 10, 10]\n"
     ]
    }
   ],
   "source": [
    "num = [10, 20, 30, 40, 50, 10, 20, 30, 40, 50]\n",
    "num.sort(reverse=True)\n",
    "print(num)"
   ]
  },
  {
   "cell_type": "markdown",
   "metadata": {},
   "source": [
    "## 3. minimum"
   ]
  },
  {
   "cell_type": "code",
   "execution_count": 60,
   "metadata": {},
   "outputs": [
    {
     "name": "stdout",
     "output_type": "stream",
     "text": [
      "10\n"
     ]
    }
   ],
   "source": [
    "num = [10, 20, 30, 40, 50, 10, 20, 30, 40, 50]\n",
    "print(min(num))"
   ]
  },
  {
   "cell_type": "markdown",
   "metadata": {},
   "source": [
    "## 4. maximum"
   ]
  },
  {
   "cell_type": "code",
   "execution_count": 61,
   "metadata": {},
   "outputs": [
    {
     "name": "stdout",
     "output_type": "stream",
     "text": [
      "50\n"
     ]
    }
   ],
   "source": [
    "num = [10, 20, 30, 40, 50, 10, 20, 30, 40, 50]\n",
    "print(max(num))"
   ]
  },
  {
   "cell_type": "markdown",
   "metadata": {},
   "source": [
    "## 5. sorted()"
   ]
  },
  {
   "cell_type": "code",
   "execution_count": 62,
   "metadata": {},
   "outputs": [
    {
     "name": "stdout",
     "output_type": "stream",
     "text": [
      "[80, 70, 70, 60, 50]\n"
     ]
    }
   ],
   "source": [
    "num = [70, 20, 30, 10, 50, 60, 20, 80, 70, 50]\n",
    "num = sorted(num,reverse=True)[:5]\n",
    "print(num)"
   ]
  },
  {
   "cell_type": "markdown",
   "metadata": {},
   "source": [
    "### Modify the code given below to display the five greatest unique numbers.\n",
    "print(sorted(\"Bonjour le monde!\".split(), key=str.lower, reverse=True))"
   ]
  },
  {
   "cell_type": "code",
   "execution_count": 68,
   "metadata": {},
   "outputs": [
    {
     "name": "stdout",
     "output_type": "stream",
     "text": [
      "[80, 70, 60, 50, 30]\n"
     ]
    }
   ],
   "source": [
    "num = [70, 20, 30, 10, 50, 60, 20, 80, 70, 50]\n",
    "print(sorted(set(num), reverse=True)[:5])"
   ]
  },
  {
   "cell_type": "markdown",
   "metadata": {},
   "source": [
    "# Exercise 4"
   ]
  },
  {
   "cell_type": "markdown",
   "metadata": {},
   "source": [
    "## 1. Dictionary"
   ]
  },
  {
   "cell_type": "code",
   "execution_count": 123,
   "metadata": {},
   "outputs": [
    {
     "name": "stdout",
     "output_type": "stream",
     "text": [
      "{'contente': 12, 'content': 12, 'triste': 2}\n",
      "<class 'dict'>\n"
     ]
    }
   ],
   "source": [
    "a = {\"contente\": 12, \"content\": 12, \"triste\": 2}\n",
    "print(a)\n",
    "print(type(a))"
   ]
  },
  {
   "cell_type": "code",
   "execution_count": 126,
   "metadata": {},
   "outputs": [
    {
     "name": "stdout",
     "output_type": "stream",
     "text": [
      "la phrase  contente  apparait  12  fois\n",
      "la phrase  content  apparait  12  fois\n",
      "la phrase  triste  apparait  2  fois\n"
     ]
    }
   ],
   "source": [
    "a = {\"contente\": 12, \"content\": 12, \"triste\": 2}\n",
    "for cle in a:\n",
    "    print(\"la phrase \", cle, \" apparait \", a[cle], \" fois\")"
   ]
  },
  {
   "cell_type": "code",
   "execution_count": 129,
   "metadata": {},
   "outputs": [
    {
     "name": "stdout",
     "output_type": "stream",
     "text": [
      "la phrase  contente  apparait  12  fois\n",
      "la phrase  content  apparait  12  fois\n",
      "la phrase  triste  apparait  2  fois\n"
     ]
    }
   ],
   "source": [
    "a = {\"contente\": 12, \"content\": 12, \"triste\": 2}\n",
    "for key,value in a.items():\n",
    "    print(\"la phrase \", key, \" apparait \", value, \" fois\")"
   ]
  },
  {
   "cell_type": "code",
   "execution_count": 130,
   "metadata": {},
   "outputs": [
    {
     "name": "stdout",
     "output_type": "stream",
     "text": [
      "{'contente': 12, 'content': 12, 'triste': 2, 'joie': 10}\n"
     ]
    }
   ],
   "source": [
    "a = {\"contente\": 12, \"content\": 12, \"triste\": 2}\n",
    "a[\"joie\"] = 10\n",
    "print(a)"
   ]
  },
  {
   "cell_type": "code",
   "execution_count": 131,
   "metadata": {},
   "outputs": [
    {
     "name": "stdout",
     "output_type": "stream",
     "text": [
      "{'contente': 12, 'content': 12}\n"
     ]
    }
   ],
   "source": [
    "a = {\"contente\": 12, \"content\": 12, \"triste\": 2}\n",
    "del a[\"triste\"]\n",
    "print(a)"
   ]
  },
  {
   "cell_type": "code",
   "execution_count": 133,
   "metadata": {},
   "outputs": [
    {
     "name": "stdout",
     "output_type": "stream",
     "text": [
      "['content', 'contente', 'joie', 'triste']\n"
     ]
    }
   ],
   "source": [
    "mots = {\"contente\": 12, \"content\": 12, \"triste\": 2, \"joie\" : 10} \n",
    "print(sorted(mots))"
   ]
  },
  {
   "cell_type": "code",
   "execution_count": 134,
   "metadata": {},
   "outputs": [
    {
     "name": "stdout",
     "output_type": "stream",
     "text": [
      "[('contente', 12), ('content', 12), ('triste', 2), ('joie', 10)]\n"
     ]
    }
   ],
   "source": [
    "mots = {\"contente\": 12, \"content\": 12, \"triste\": 2, \"joie\" : 10}\n",
    "mots_tuple = [(key, value) for key,value in mots.items()]\n",
    "print(mots_tuple)"
   ]
  },
  {
   "cell_type": "markdown",
   "metadata": {},
   "source": [
    "## 2. itemgetter"
   ]
  },
  {
   "cell_type": "code",
   "execution_count": 135,
   "metadata": {},
   "outputs": [
    {
     "name": "stdout",
     "output_type": "stream",
     "text": [
      "[('triste', 2), ('joie', 10), ('contente', 12), ('content', 12)]\n"
     ]
    }
   ],
   "source": [
    "from operator import itemgetter\n",
    "\n",
    "mots = {\"contente\": 12, \"content\": 12, \"triste\": 2, \"joie\" : 10}\n",
    "mots_tuple = [(key, value) for key,value in mots.items()]\n",
    "print(sorted(mots_tuple, key=itemgetter(1)))"
   ]
  },
  {
   "cell_type": "markdown",
   "metadata": {},
   "source": [
    "## 3. Interaction avec l'utilisateur"
   ]
  },
  {
   "cell_type": "code",
   "execution_count": 136,
   "metadata": {},
   "outputs": [
    {
     "name": "stdout",
     "output_type": "stream",
     "text": [
      "Quel est votre nom?Jabril\n",
      "Jabril\n"
     ]
    }
   ],
   "source": [
    "nom = input(\"Quel est votre nom?\")\n",
    "print(nom)"
   ]
  },
  {
   "cell_type": "code",
   "execution_count": 137,
   "metadata": {},
   "outputs": [
    {
     "name": "stdout",
     "output_type": "stream",
     "text": [
      "Quel est votre âge? 20\n",
      "20\n",
      "<class 'str'>\n"
     ]
    }
   ],
   "source": [
    "age = input(\"Quel est votre âge? \")\n",
    "print(age)\n",
    "print(type(age))"
   ]
  },
  {
   "cell_type": "code",
   "execution_count": 139,
   "metadata": {},
   "outputs": [
    {
     "name": "stdout",
     "output_type": "stream",
     "text": [
      "Quel est votre âge? 20\n",
      "20\n",
      "<class 'int'>\n"
     ]
    }
   ],
   "source": [
    "age = input(\"Quel est votre âge? \")\n",
    "age = int(age)\n",
    "print(age)\n",
    "print(type(age))"
   ]
  },
  {
   "cell_type": "markdown",
   "metadata": {},
   "source": [
    "Question: Write a program in Python that interacts with the user to obtain the following information of 5 students:\n",
    "- Name of student\n",
    "- Age\n",
    "- Grades in 5 modules\n",
    "Once the information for all the five students is obtained, calculate and display the following values for every module:\n",
    "- average grade\n",
    "- maximum grade\n",
    "- minimum grade"
   ]
  },
  {
   "cell_type": "code",
   "execution_count": 140,
   "metadata": {},
   "outputs": [
    {
     "name": "stdout",
     "output_type": "stream",
     "text": [
      "you will now enter info for 5 students\n",
      "\n",
      "\n",
      "student 0\n",
      "name: Jabril\n",
      "as integer - enter age: 20\n",
      "as integer - android grade as integer value: 15\n",
      "as integer - Data Mining grade as integer value: 19\n",
      "as integer - zythologie grade as integer value: 21\n",
      "as integer - reseau grade as integer value: 9\n",
      "as integer - maths grade as integer value: 0\n",
      "\n",
      "\n",
      "student 1\n",
      "name: Paul\n",
      "as integer - enter age: 21\n",
      "as integer - android grade as integer value: 0\n",
      "as integer - Data Mining grade as integer value: 0\n",
      "as integer - zythologie grade as integer value: 0\n",
      "as integer - reseau grade as integer value: 0\n",
      "as integer - maths grade as integer value: 0\n",
      "\n",
      "\n",
      "student 2\n",
      "name: Maxence\n",
      "as integer - enter age: 21\n",
      "as integer - android grade as integer value: 0\n",
      "as integer - Data Mining grade as integer value: 0\n",
      "as integer - zythologie grade as integer value: 20\n",
      "as integer - reseau grade as integer value: 20\n",
      "as integer - maths grade as integer value: 0\n",
      "\n",
      "\n",
      "student 3\n",
      "name: Tho-mas\n",
      "as integer - enter age: 20\n",
      "as integer - android grade as integer value: 20\n",
      "as integer - Data Mining grade as integer value: 20\n",
      "as integer - zythologie grade as integer value: 0\n",
      "as integer - reseau grade as integer value: 20\n",
      "as integer - maths grade as integer value: 20\n",
      "\n",
      "\n",
      "student 4\n",
      "name: Romain\n",
      "as integer - enter age: 0\n",
      "as integer - android grade as integer value: 0\n",
      "as integer - Data Mining grade as integer value: 0\n",
      "as integer - zythologie grade as integer value: 0\n",
      "as integer - reseau grade as integer value: 0\n",
      "as integer - maths grade as integer value: 0\n",
      "\n",
      "\n",
      "\n",
      "\n",
      "Jabril data: \n",
      "avg grade : 12.8\n",
      "max grade : 21\n",
      "min grade : 0\n",
      "\n",
      "Paul data: \n",
      "avg grade : 0.0\n",
      "max grade : 0\n",
      "min grade : 0\n",
      "\n",
      "Maxence data: \n",
      "avg grade : 8.0\n",
      "max grade : 20\n",
      "min grade : 0\n",
      "\n",
      "Tho-mas data: \n",
      "avg grade : 16.0\n",
      "max grade : 20\n",
      "min grade : 0\n",
      "\n",
      "Romain data: \n",
      "avg grade : 0.0\n",
      "max grade : 0\n",
      "min grade : 0\n"
     ]
    }
   ],
   "source": [
    "# -*- coding: utf-8 -*-\n",
    "\n",
    "modules = {\"maths\", \"Data Mining\", \"reseau\", \"android\", \"zythologie\"}\n",
    "\n",
    "\n",
    "class Student:\n",
    "    def __init__(self, name, age, grades):\n",
    "        self.name = name\n",
    "        self.age = age\n",
    "        self.grades = grades\n",
    "\n",
    "    def print_key_data(self):\n",
    "        print(\"\\n{} data: \".format(self.name))\n",
    "        print(\"avg grade : {}\".format(sum(self.grades.values())/len(self.grades.values())))\n",
    "        print(\"max grade : {}\".format(max(self.grades.values())))\n",
    "        print(\"min grade : {}\".format(min(self.grades.values())))\n",
    "\n",
    "def get_int_input(label=\"\"):\n",
    "    readValue = \"notDigit\"\n",
    "    while not readValue.isdigit():\n",
    "        readValue = input(\"as integer - {}\".format(label))\n",
    "    return int(readValue)\n",
    "\n",
    "\n",
    "def get_students(nb_students):\n",
    "    StudentData = []\n",
    "    print(\"you will now enter info for {} students\".format(nb_students))\n",
    "    for i in range(nb_students):\n",
    "        print(\"\\n\\nstudent {}\".format(i))\n",
    "        name = input(\"name: \")\n",
    "        age = get_int_input(label=\"enter age: \")\n",
    "        mods = dict()\n",
    "        for module in modules:\n",
    "            readValue = get_int_input(\"{} grade as integer value: \".format(module))\n",
    "            mods[module] = readValue\n",
    "        StudentData.append(Student(name, age, mods))\n",
    "    return StudentData\n",
    "\n",
    "\n",
    "if __name__ == \"__main__\":\n",
    "    students = get_students(5)\n",
    "    print(\"\\n\\n\")\n",
    "    for student in students:\n",
    "        student.print_key_data()"
   ]
  },
  {
   "cell_type": "markdown",
   "metadata": {},
   "source": [
    "# Exercise 5"
   ]
  },
  {
   "cell_type": "markdown",
   "metadata": {},
   "source": [
    "## 1. Files"
   ]
  },
  {
   "cell_type": "code",
   "execution_count": 73,
   "metadata": {
    "collapsed": true
   },
   "outputs": [],
   "source": [
    "message = \"Bonjour le monde\"\n",
    "with open(\"bonjour.txt\", \"w\") as file:\n",
    "    file.write(message)\n",
    "file.close()"
   ]
  },
  {
   "cell_type": "code",
   "execution_count": 74,
   "metadata": {},
   "outputs": [
    {
     "name": "stdout",
     "output_type": "stream",
     "text": [
      "Bonjour le monde\n"
     ]
    }
   ],
   "source": [
    "with open(\"bonjour.txt\", \"r\") as file:\n",
    "    text = file.read()\n",
    "    print(text)\n",
    "file.close()"
   ]
  },
  {
   "cell_type": "code",
   "execution_count": 76,
   "metadata": {},
   "outputs": [
    {
     "name": "stdout",
     "output_type": "stream",
     "text": [
      "Bonjour le monde Programmation en Python\n"
     ]
    }
   ],
   "source": [
    "message1 = \"Bonjour le monde\"\n",
    "message2 = \"Programmation en Python\"\n",
    "with open(\"bonjour.txt\", \"w\") as file:\n",
    "    file.write(message1)\n",
    "    file.write(message2)\n",
    "file.close()\n",
    "\n",
    "with open(\"bonjour.txt\", \"r\") as file:\n",
    "    text = file.read()\n",
    "    print(text)\n",
    "file.close()"
   ]
  },
  {
   "cell_type": "code",
   "execution_count": 77,
   "metadata": {},
   "outputs": [
    {
     "name": "stdout",
     "output_type": "stream",
     "text": [
      "Bonjour le monde\n",
      "Programmation en Python\n"
     ]
    }
   ],
   "source": [
    "message1 = \"Bonjour le monde\\n\"\n",
    "message2 = \"Programmation en Python\"\n",
    "with open(\"bonjour.txt\", \"w\") as file:\n",
    "    file.write(message1)\n",
    "    file.write(message2)\n",
    "file.close()\n",
    "with open(\"bonjour.txt\", \"r\") as file:\n",
    "    text = file.read()\n",
    "    print(text)\n",
    "file.close()"
   ]
  },
  {
   "cell_type": "markdown",
   "metadata": {},
   "source": [
    "## 2. readline()"
   ]
  },
  {
   "cell_type": "code",
   "execution_count": 78,
   "metadata": {},
   "outputs": [
    {
     "name": "stdout",
     "output_type": "stream",
     "text": [
      "Bonjour le monde\n",
      "\n"
     ]
    }
   ],
   "source": [
    "message1 = \"Bonjour le monde\\n\"\n",
    "message2 = \"Programmation en Python\"\n",
    "with open(\"bonjour.txt\", \"w\") as file:\n",
    "    file.write(message1)\n",
    "    file.write(message2)\n",
    "file.close()\n",
    "with open(\"bonjour.txt\", \"r\") as file:\n",
    "    text = file.readline()\n",
    "    print(text)\n",
    "file.close()"
   ]
  },
  {
   "cell_type": "code",
   "execution_count": 81,
   "metadata": {},
   "outputs": [
    {
     "name": "stdout",
     "output_type": "stream",
     "text": [
      "Bonjour le monde\n",
      "\n",
      "Programmation en Python\n",
      "\n"
     ]
    }
   ],
   "source": [
    "message1 = \"Bonjour le monde\\n\"\n",
    "message2 = \"Programmation en Python\\n\"\n",
    "with open(\"bonjour.txt\", \"w\") as file:\n",
    "    file.write(message1)\n",
    "    file.write(message2)\n",
    "file.close()\n",
    "\n",
    "with open(\"bonjour.txt\", \"r\") as file:\n",
    "    for line in file:\n",
    "        print(line)\n",
    "file.close()"
   ]
  },
  {
   "cell_type": "markdown",
   "metadata": {},
   "source": [
    "### Question: Copy any HTML file in your home directory. Write a program in Python to get the following values:\n",
    "- number of characters in the HTML file\n",
    "- number of lines in the HTML file\n",
    "- number of words in the HTML file\n",
    "- first twenty words in the HTML file\n",
    "- distinct words in the HTML file"
   ]
  },
  {
   "cell_type": "code",
   "execution_count": 121,
   "metadata": {},
   "outputs": [
    {
     "name": "stdout",
     "output_type": "stream",
     "text": [
      "number of characters in the HTML file: 86326\n",
      "number of lines in the HTML file: 376\n",
      "number of words in the HTML file: 15056\n",
      "first twenty words in the HTML file: ['b', 'DOCTYPE', 'html', 'n', 'saved', 'from', 'url', '0050', 'https', 'en', 'wikipedia', 'org', 'wiki', 'Tab', 'separated_values', 'n', 'html', 'class', 'client', 'js']\n",
      "distinct words in the HTML file: {'22M174', 'li', '662L4', 'form', 'toolbar', '09', 'toc', '22square', 'class', '625em', 'xdb', 'one', 'Monetary', 'files', '1000000', 'span', 'accesskey', 'wgPopupsReferencePreviews', 'generator', '23eaecf0', 'wgMediaViewerEnabledByDefault', 'c', '20fill', '23c8ccd1', '20encoding', 'cputime', 'Talk', 'underline', 'extract', 'wikimedia', '50', '978', '2278', 'centralNotice', 'contentSub', 'License', '416', 'rasterized', 'align', 't3', 'image', '20d', 'Since', 'MediaWiki', 'mainEntity', 'tabs', 'scope', '6', 'Current_events', 'top', 'Nov', 'newline', 'gnome', 'copyright', '20', 'Visit', 'pageLanguageDir', '64285714em', 'interlanguage', 'dd3333', 'medium', '2254', 'hreflang', '2z', 'linked', '2291', '1x1', 'stored', '226', '2H4a2', 'limitreport', 'inset', 'x87', 'line', 'structure', 'SpecialPages', 'close', 'tooltipTail', 'wgPageContentModel', 'what', '2014', 'special', 'ui', 'Fran', '2232', 'Digital', 'simply', 'n5', '5h2v1H9z', 'last', 'will', 'D1', 'u', 'xd8', '0zm', '2284', 'd6', 'cite_note', 'ol', 'Contributors', 'width', 'thus', 'standard', 'encyclopedia', 't', 'Data_exchange', 'x86', '2233', 'publisher', 'overlay', 'mw1320', 'also', 'D9', '22evenodd', '2211', '3h', 'Fund', 'referer', '44', 'wgCategories', '0v20h10a2', 'static', 'about', 'profit', 'walltime', 'available', 'contents', 'x85', '23c', 'template', 'targetLoader', 'cell', 'postexpandincludesize', 'Escape_character', 'where', '48px', 'Template', '14em', 'Standard', '2220', 'yes', '1c', '000', 'Wikimedia', 'defs', 'settingsFormSeparator', 'navigation', 'http', 'ru', 'box', '071', 'tPrint', 'BE', 'xba', 'pageVariantFallbacks', 'b', 'File_Upload_Wizard', '10px', 'Language', 'to', '2422553', '0v2h11v14h2V2a2', '21px', 'Types', '1s', 'both', 'x83', 'International', 'discussion', 'menu', '2249', 'd25f1', 'rotate', 'collapsible', 'programs', '45deg', 'a', 'B1_', 'spaces', '208', '8l1', 'May', 'wgAction', 'Q3513566', 'memory', 'x94', 'AA', 'subject', '021', '00', 'containing', 'which', 'xe7', 'nCached', 'highlight', 'redirect', 'wl', 'searchInput', '4zm8', '17px', 'Database', 'client', '2097152', '100ms', '2zM9', '5c2', 'UTF', 'searchform', 'Russian', 'ppvisitednodes', 'February', '66', '555', 'plain', 'I', 'simple', 'new', 'io', 'Text', '2px', 'Bibliography', 'Template_other', '20200202044155', '130', 'oldid', 'require', 'Mar', 'Cookie', '85714286em', 'dl', '309l', '95v2', 'B4', 'account', 'nbsp', 'xe8', '303a4', '16H2V8h16z', '0', 'flex', 'load', 'xb6', 'Enable', 'might', 'desktopArticleTarget', 'connected', 'xlink', '22M20', 't1', 'red', '65em', 'contentinfo', 'E5', '4a4', 'row', 'Wikisource', 'count', 'tffin', 'within', 'conversion', 'separated', '23ff00af', 'skinning', 'quotes', 's', 'login', 'variants', 'IP', 'because', 'n100', '447ff5', '2000', '0050', 'startUp', 'perform', '1ggpAICkAAL6ifywAAABV', 'wgRelevantArticleId', '999px', 'free', '3Asid', 'pcache', '22b', 'tTools', 'permalink', 'cx', 'timingprofile', 'png', '90px', 'IANA', 'assignments', 'simpleSearch', '78', 'next', '2s', 'September', 'wiki', 'wgRelevantPageName', 'Main_other', 'July', 'stroke', 'currentevents', '8h294l8', '503', '2h6v1H6zm7', 'stedolan', 'carriage', 'foundation', 'genre', '309', 'A6', 'hide', 'aa', '2237', '512', '61', 'E8', 'Related', 'apply', 'wgDigitTransformTable', 'url', '3366cc', 'sizing', 'You', 'Dec', 'wizard', '87', 'registration', '9px', '41L2', 'recent', 'xa3', 'user', 'wgCanonicalSpecialPageName', 're', '6L7', 'nExpensive', 'xa1t', 'type', 'Wikipedia_files', '2V5a2', 'backslash', 'implement', 'eaecf0', 'o', 'storing', 'tooltip', 'flower', 'ctx_ver', '2em', '2Fassignments', '2230', 'fade', '2Fmedia', '205', 'x97', 'MyLanguage', '22a', '3', 'wgRevisionId', '2a7', 'an', 'Xj', '22utf', '2', 'Ukrainian', '22M9', '2h4v1H4zm0', 'Example', 'Wikidata', 'IANA_2', 'radius', '22M4', 'edited', 'AF', '93z', '2ec7d', 'cachereport', '12px', 'Create', 'See_also', 'vectorMenu', 'ld', 'found', 'xb8', 'src', '222222', '401', 'green', 'By', 'FundraiserRedirector', '0D', 'Upload', 'transfer', 'wikimediaBadges', '28IANA', 'limit', 'nCache', '22', 'clippath', 'RLPAGEMODULES', 'height', 'tI', 'edits', '0_Unported_License', '2V4a2', 'lossless', '1V5h', 'BB', 'tr', 'widely', 'xc2', 'Linear', 'places', '10T17', '2024', '230', 'Sep', 'rendering', '1l2', 'languages', 'n', '2267', 'book_creator', 'agree', 'hidden', 'ico', '2Fwww', '430', 'dir', 'jtitle', 'below', 'ElectronPdf', '20viewBox', '12', 'collapse', '3s1', 'shop', 'or', 'false', 'visible', 'wb', 'statslink', '3Cpath', '10T09', 'is', 'exchange', 'x96', '4l', 'k', 'opensearchdescription', 'value', 'vary', '1V5s1', '23b', 'October', 'CentralAutoLogin', 'tools', 'U', 'List', 'family', '6L3', 'Gopher', 'toctogglespan', 'canonical', '2271', 'store', '8c', 'justify', 'Featured', '982px', '56', 'coll', 'Iris_flower_data_set', '2zm7', '22179', 'fr', '71em', '2v12a1', '4zm', 'DRN', 'contact', '1em', 'rule', 'wmf', 'language', 'lock', 'rel', 'tabular', '32px', 'subscription', '8h690v992H0z', 'field', 'r935243608', 'nNewPP', 'Feb', 'page', 'output', 'filtersuggestion', 'alternate', 'Code', 'searchButton', 'vectorTabs', 'entityaccesscount', 'editableContent', 'def', 'campaigns', '350px', 'position', '25px', '028l1', '95', 'For', 'wgMFDisplayWikibaseDescriptions', '15px', 'mandatory', 'pageLanguageCode', '1993', 'focus', 'Information', 'cs1', 'A1', 'body', 'Lindner', 'github', 'bar', 'ShareAlike_3', '2zm2', 'targeted', 'article', 'Policy', 'rl', '978z', '2019', 'Filename', 'atitle', 'wgCSPNonce', '2224', 'empty', 'privacy', '5H14a4', '876L14', '41L15', 'group', 'pBody', 'f', 'Past', 'w3', 'with', 'divider', 'Aug', '7', 'Gnumeric', 'Contact_us', '3Fxml', 'mainpage', 'xc3', 'best', 'Terms', 'poweredby_mediawiki_88x31', '537', 'grey', 'headline', 'specialpages', 'can', '2252', 'need', 'bottom', '5v', '6l1', 'skin', 'node', '85', 'disabled', 'overflow', '07l', 'Saved', 'xa0', 'Character', '22M13', '150px', 'license', 'button', 'sitelinks', 'interaction', 'absolute', 'html', 'The', 'inline', '22199', 'main', '0zm5', 'document', 'insideWindow', 'Variants', 'events', 'lists', 'webkit', 'Cookie_statement', 'how', 'wgPopupsConflictsWithNavPopupGadget', 'commonPrint', '2Fen', 'but', 'search', 'ux', 'xb9', '28tsv', '6h6v1H6zm0', 'enwiki', 'fff', 'BD', 'return', 'wgRequestId', 'nav', 'wgMediaViewerOnClick', 'uselang', '3F', 'h2', 'so', 'simplicity', '23f8f9fa', '215px', '111', 'crossorigin', 'sitedir', 'B7', 'enhancements', 'was', 'max', '3ATab', 'wgBreakFrames', 'inner', 'nDynamic', 'idhash', 'Log', '624', 'entities', 'Go', 'wgULSCurrentAutonym', '26px', 'monospace', 'margin', 'when', 'wgEditSubmitButtonLabelPublish', 'xd0', '35em', 'returnto', '94', '15em', 'action', '2231', 'collision', 'deactivating', 'Media_type', '2372777d', 'aria', 'placeholder', 'argument', '5h54', 'prefetch', 'Table', 'repository', 'featuredcontent', '1brao', 'wikitext', 'Iris', 'Each', 'Z3988', 'arrow', 'accessibility', 'cross', 'gradient', '2Ftab', 'it', 'down', 'portlet', 'xa8', '55px', 'articles', 'RLSTATE', 'TemplateStyles', '255', 'progressive', 'Wikibase', 'organization', 'A7', 'under', 'img', '22M17', 'after', 'inputWidget', 'mask', 'dotted', 'lang', 'utm_medium', 'x90expand', '28', 'float', 'information', '712l1', 'section', 'expansiondepth', '2016c', '22em', 'extiw', 'A7_', 'portal', 'sans', 'nomin', 'pages', 'lastmod', '021zm9', 'logo', 'rt', '43', 'xc4', 'weight', '668zm0', '9l', 'wgWMESchemaEditAttemptStepOversample', 'href', '2251', '180px', '18', 'xbb', 'Main_Page', '988z', '222', 'thumb', '525', '36em', 'start', 'Contact', 'x9a', 'are', 'Retrieved', 'convention', '8zM5', 'x90revision', 'modules', '8h974v992H0z', '1L8', 'and', '3Ajournal', 'Category', 'tbody', '20version', '203z', 'bytes', 'datov', 'shadow', 'WhatLinksHere', 'aea9e', 'svg', 'IE', 'opacity', 'all', 'shared', 'rft_id', 'tInteraction', '5h4v1H4zm0', 'organized', 'delimiter', '2h16a2', 'loaded', 'Row_', 'revisions', 'loader', 'jump', 'indent', 'exists', 'iVBORw0KGgoAAAANSUhEUgAAABQAAAAUBAMAAAB', '2v14a2', 'What', 'Table_', 'lt', 'cn', 'print_export', '400', 'wgIsProbablyEditable', 'read', 'conversions', 'Views', '247', '2259', 'ReferenceTooltips', '45px', 'use', 'rft', 'bookcmd', '9oe1vvAAAABnRSTlMA3rLe3rJS22KzAAAARElEQVQI12PAAUIUQCSTK5BwFgIxFU1AhKECUFAYKAAioXwwBeZChMGCEGGQIFQYJohgIhQgtCEMQ7ECYTHCOciOxA4AADgJTXIb9s8AAAAASUVORK5CYII', '35', 'default', 'D0', 'globalCssJs', '9375em', 'select', '981', 'cache', 'MyTalk', 'toctoggle', '300px', 'a2a9b1', '82', 'scroll', '223', 'selector', 'B6', 'caption', '22230', 'xaf', '67', '112', 'data', '6L13', 'do', 'app', 'cannot', 'extensions', 'api', 'transform', 'pt', '22matrix', 'checkbox', 'json', 'space', 'visualClear', '823a2', '5z', '9A', 'anontalk', 'closeButton', 'set', 'Team', 'Tab_characters', 'Printable', 'className', 'E7', 'General', 'loading', 'printfooter', '0c1', 'interwiki', 'footer', 'utm_source', 'dataprotocols', 'See', '80', 'xe2', '22none', 'create_a_book', '05v', 'from', 'indicators', 'Guides', 'siteSub', '4c1', 'show', 'Escape', 'x90sha1', 'English', 'tNavigation', 'ResourceLoaderDynamicStyles', 'extension', 'tPetal', '0a2', 'config', 'ebb8e', '22108', 'gadget', 'create', 'break', 'referrer', 'vertical', '203', '25em', 'spreadsheet', 'p', 'xbe', 'favicon', 'application', '281', 'Load', 'meta', 'DB', '3zM12', 'nUnstrip', 'characters', '444444', 'tokens', 'Download', 'unstrip', 'Spreadsheet', '22158', 'null', 'fulltext', '52428800', 'h1', 'display', '201', 'Use', 'report', '2867', '8h174l8', '250ms', 'computer', '73', 'Discussion', '2273', '021zm', 'toctitle', '668', 'tut', '290px', 'watchToken', '9', 'zoom', '943', 'nHighest', 'tSpecies', '947', '159', '2v18l4', 'Species', 'error', 'geoIP', 'style', '22201', 'quiet', '10', 'jkorpela', 'xc5', '41', 'sidebar', '87_', 'xa1tina', 'min', '293px', 'callout', 'dns', '227', 'iana', '2272', 'editpage', 'alternative', 'Cite', 'cs', 'RecentChangesLinked', 'MN', 'poweredby_mediawiki_132x47', 'RLCONF', '22http', 'common', 'CreateAccount', 'Petal', 'wbc', '11', 'Values', 'unknown', 'PDF', 'January', 'd', '028', 'EntityPage', 'wikidata', 'Numbers', '5em', '875em', '23a2a9b1', 'Guidance', 'links', 'policy', 'active', '88', 'D8', 'here', 'External_links', 'Separated', 'wgSeparatorTransformTable', 'HTML', 'pwA', 'font', 'cite', 'browsing', '4px', 'toggle_view_mobile', 'scribunto', 'Korpela', 'very', 'wgTitle', 'post', 'cactions', '99999px', '8h10l8', 'module', '2354595d', 'oo', '3c', 'External', 'general', 'x8ce', 'notice', 'wgNoticeProject', 'gray', '669', 'bodyContent', 'update', 'A8', 'large', 'dmy', 'wgCanonicalNamespace', 'xe6', 'Conventions', 'rft_val_fmt', 'bidi', 'enableSelect', 'following', 'index', '3C', 'move', 'copyrightico', 'memusage', 'init', 'trademark', 'window', '2234', '01', 'transparent', 'c8ccd1', 'these', '27px', 'Commons', '6px', '1000px', 'resources', '5zM18', 'linecap', '29', 'How', 'note', 'animation', 'v2', 'Developers', 'Privacy', 'alt', 'mode', 'created', 'white', 'www', '93', '2238', 'nPreprocessor', 'info', 'key', 'infobox', '05', 'important', '1500000', 'views', 'xb7', '22133', '3em', '2266', 'Page', 'xac', 'xa7ais', 'ms', 'find', 'wikimediaEvents', '4h14a2', 'address', '20px', 'extra', 'International_standard', '8h3l', '1999', 'nadditional', 'editable', 'tocnumber', 'before', 'ul', '2245', 'f8f9fa', '54595d', 'xb3', '3E', '931L17', 'on', 'v', 'noprint', '285', 'visualEditor', 'Portal', 'Text_of_Creative_Commons_Attribution', '3Cdefs', 'recentchangeslinked', 'https', '2592000', 'Help', 'watchlist', 'description', '08', '23ffc057', '3px', 'solid', 'UniversalLanguageSelector', 'preview', '303', '78L9', '2004', '02', 'wgCentralAuthMobileDomain', 'character', '14px', 'small', 'comma', '9l1', '83', 'nofollow', 'Jump', 'icons', 'projects', 'Apr', '4h4v5h', 'visited', '35z', 'nTransclusion', '18H18a2', 'pointer', 'talk', 'escape', 'streams', 'clip', 'styles', 'vectorMenuCheckbox', 'download', '3H4', 'B1', 'progressBarWidget', 'us', 'destructive', '336', '96', 'changes', 'Article', '90e9b', 'revision', 'stylesheet', 'centralAuthPPersonalAnimation', 'first', 'hover', 'not', 'tsv', '140px', 'terms', '2005', 'wgPageContentLanguage', 'running', 'Random', 'ltr', 'lcd', 'fa', 'Read', 'Main', '2219', 'padding', '07', '1px', 'whatlinkshere', 'Mobile', 'the', '2285', 'cy', 'causes', 'panel', 'googpub', 'multiplatform', 'fi', 'generated', 'color', 'separated_values', '16px', 'legacy', 'compact', 'Namespaces', 'see', '39', '303L11', 'wikimediafoundation', 'sameAs', 'labelledby', '36c', '205h', '2210', 'buttons', 'Text_file', 'xa7', 'view', 'relative', 'parser', 'contain', '5v10A1', 'Jul', 'history', 'ImageObject', 'cursor', '320px', '156', '22135', 'EditURI', 'project', 'Creative', 'Find', 'tooltipContent', 'nNumber', 'more', 'fallbackSearchButton', 'xad', 'Special', 'nCPU', '17h2', '3Ctitle', 'out', 'Spreadsheet_file_formats', 'UTC', 'switcher', 'above', 'skins', 'documentElement', 'Jan', 'right', 'stops', 'Type', '876', 'header', '100px', 'div', 'toctogglelabel', 'usage', 'target', '6l', 'js', '3Ccircle', '57142857em', 'compactlinks', 'things', 'imf', 'exchanging', '06', 'expansion', '417px', 'using', 'journal', 'fixed', 'eventlogging', 'Content', 'code', 'file', 'poweredbyico', 'title', '81', 'utm_campaign', 'AC', 'International_Monetary_Fund', 'Z39', 'Navigation', '22c', 'news', '617', 'block', 'toctogglecheckbox', 'wrapper', 'textInputWidget', 'Permanent', 'centralautologin', '33aa33', '3Crect', 'e226b', 'Files', '53Z', 'sad', 'external', 'infrequent', 'siteNotice', 'ext', 'CSV', '3Cg', 'input', 'This', 'Edit', 'be', '3A', 'clear', '40Z', '06A1', 'appearance', 'Foundation', 'centralauth', 'commas', 'randompage', 'Tab', 'supported', 'emptyPortlet', 'b32424', 'nLua', 'Paul', 'jq', '169', 'convert', '86', '200px', 'nstab', 'UserLogin', 'rsd', 'About', 'different', 'support', 'Published', '22167', 'CiteThisPage', 'Internet_Assigned_Numbers_Authority', 'How_to_contribute', 'isolate', '334', 'licenses', '2H1v15h4a7', '5632', '5c', 'e', 'wgUserName', 'Filename_extension', 'list', 'citation', 'serial', 'General_disclaimer', 'noscript', 'x93', '31', 'tab', 'MIME', '16', 'schema', '34L4', '13px', 'role', '009', '60px', 'mediawiki', 'timeusage', 'dd', 'Tabulation', 'way', '2V3a2', '22M2', '40', 'n4', 'popups', '4007', 'Lock', 'current', 'zh', 'background', 'RLQ', 'size', '10l', 'made', 'formats', 'Persian', 'left', '394L8', 'limited', 'xb1', '2336c', 'submit', 'may', 'disambiguation', 'Data', '2h4V2zm2', 'References', 'paulfitz', 'x81', 'h3', '2299', '17', 'expiry', 'Featured_content', '65', 'serif', 'Contributions', 'Statistics', 'non', 'label', 'TSV_', 'Comma', '200', '23a', '22M11', 'border', '2292', 'xb0', 'entity', '8zm7', 'Sepal', 'Organization', 'sa', 'that', 'base64', 'wgIsRedirect', 'rgba', 'Current', '3D', '2213', 'Jukka', '42px', 'Infobox', 'anoncontribs', 'opensearch_desc', 'viewBox', 'wrap', 'center', 'firstHeading', 'wgIsArticle', 'fields', '34', '179', 'text', 'Authority', 'wgHostname', 'AAAAElBMVEUAAAAQEBDPz88AAABAQEDv7', 'xd1', 'RecentChanges', '2a2', 'by', 'container', 'mobileview', 'ease', 'contactpage', '5zM6', '007zM7', '15', 'toctext', 'dt', 'ready', 'in', 'aboutsite', 'databases', 'script', '2F2000', 'difficulties', '2217', 'b0c8e', 'BD_form', 'activated', 'xa1', '135deg', '13', '2v2', '20a2', '8px', 'record', 'commons', '1', 'transientcontent', 'toclevel', '363', 'bold', 'disclaimer', 'cookiestatement', 'March', 'nTemplate', 'anonymous', 'time', 'screen', 'bracket', 'Not', 'r', '8H8V7h5zm3', '800', 'tagline', 'site', 'depth', 'tocsection', 'xe4', '2v12a2', 'flip', 'database', '93l12', 'saved', 'moz', 'html5shiv', 'stopMobileRedirectToggle', 'print', 'Czech', 'wgPageParseReport', 'if', 'Character_literal', 'C3', 'MB', 'mwe', 'ca', 'manual', 'Contents', 'settingsLink', 'Wikipedia', 'pypi', 'users', 'uneditableContent', 'references', 'Book', 'rect', '2h9v1H4z', 'Recent', 'tb', '2H2zm4', 'disabledHelp', '981l', 'literal', '2F', '2H8V5h8z', 'wikibase', 'x', 'wgWikibaseItemId', 'startup', 'x8f', 'xmlns', 'Digital_container_format', 'catlinks', 'ShareAlike', 'wikipedia', '517', 'icon', 'Disclaimers', 'Inc', 'A1t', 'tempWikitextEditorWidget', 'images', 'pre', 'Delimiter', 'April', '20xmlns', '500', 'author', '3Aofi', 'middle', '242px', '11px', 'Link', 'htm', '75em', 'fill', 'disabledNote', '51', 'poweredby_mediawiki_176x62', '225', 'big', 'B5', 'equiv', 'Privacy_policy', 'toolbarPlaceholder', 'French', 'recentchanges', '4l1', 'tochidden', 'Tab_key', 'Definition', 'export', 'up', 'origin', 'xe5', 'lib', 'forwards', 'M0', 'inherit', '202', 'xa6', '38', 'previews', 'navigationTiming', '84', 'wgPageName', '9z', 'upload', 'wgDefaultDateFormat', 'transition', 'View', 'File', '420px', 'x8e', 'wgRelevantPageIsProbablyEditable', 'wgVisualEditor', 'wikitable', 'Conventions_for_lossless_conversion_to_TSV', 'Jun', 'Value', 'head', 'reference', 'decoration', 'nParsed', 'nThe', 'shift', '2Fsvg', 'wgRestrictionMove', 'link', '450px', '23fff', 'jQuery', '22M15', 'a28d5', '876a4', 'timestamp', 'unicode', 'shortcut', 'xae', 'developers', 'stats', 'linear', 'back', 'stable', 'B0', 'Personal', 'TSV', 'BC', 'id', 'kern', 'donate', '8F_', '1798401', 'normal', 'ffffff', 'y', 'q', 'Terms_of_Use', '4z', 'for', 'options', 'November', 'media', '2zm1', 'charset', 'php', 'expensivefunctioncount', 'w', '276', 'createaccount', 'repeat', '25', '447', 'newspaper', 'push', '5', 'polyline', 'android', '2h11v4H6zm0', '2h6v1H6zm0', '100', 'help', 'often', '28px', '688L5', 'td', 'quicksurveys', 'Categories', 'child', '4', '70', 'wgRestrictionEdit', 'h', 'August', '2a4b8d', 'item', '5x', 'Cite_web', 'necessary', '30px', 'gnumeric', 'backlink', '14', 'Delimiter_collision', 'sitesupport', 'wgNamespaceNumber', 'outline', '2h10a2', 'z', 'nReal', '3Cuse', 'achieves', '735', '5000000', 'book', '97', 'context', 'namespaces', 'random', 'templateargumentsize', 'calls', 'selected', 'activating', 'tSepal', '110', '221', 'printable', 'values', '2v13a2', '8E', 'nearby', 'Donate', 'CentralNotice', 'creativecommons', '2Ffmt', 'nPost', 'elt', 'xb4', '211', '96_', '5A1', 'translate', 'mw1331', '47px', '4em', 'June', 'you', 'element', 'Format', 'as', 'vector', 'From', 'edit', 'xbc', '5h2', 'this', '109', 'path', 'wgMonthNames', 'region', 'program', 'content', 'xml', 'of', 'eee', '2Ftext', 'setosa', '23555', '20H5V0H3', 'recursion', 'ppgeneratednodes', 'registered', 'between', '43em', '72', 've', '0A', 'anonuserpage', 'x8c', '64', '6em', 'wgMonthNamesShort', 'format', '3Akev', 'trigger', 'face', 'editsection', 'tooltipsForCommentsField', '10V1H5a2', '000000', 'base', 'datePublished', '18px', '2281', '8F', '8H0z', 'table', 'xbd', '321', '8h810v992H0z', 'used', 'Media', 'DOCTYPE', 'total', 'A', 'More', 'th', 'maint', 'exact', 'wgBackendResponseTime', 'MyContributions', 'December', 'Attribution', 'editfont', 'xd9', '22156', 'log', 'landscape', '4c', 'i', 'function', '2214', 'touch', '72777d', '2h9v1H4zm0', 'interface', 'nowrap', 'Chinese', '2V2a2', 'word', 'open', 'Support', '423', 'ws', 'logged', 'xe9', '35a4', 'Community_portal', 'seconds', 'results', 'numberInput', '3Csvg', 'm', 'length', '674', '220', '2235', '2x', 'g', 'dateModified', 'corresponds', 'wgUserGroups', 'ff4242', '712', 'org', '930114126', 'types', '206', 'shoplink', 'flipped', 'Row', 'web', 'Assigned', 'Community', '07000000000000001', '554a5', 'at', '5px', 'E9', 'pygments', '40px', 'banner', 'personal', 'ttl', 'tLanguages', '22M5', 'nComplications', 'rtl', '22translate', '1l', 'eventLogging', 'deduplicate', 'settings', 'rfr_id', '113', 'uls', 'disallowing', 'tall', 'wgArticleId', 'go', 'C13_en', 'no', '0h1000v242H190l', 'translateY', '22M10', 'cite_ref', 'refToolbar', 'Internet', 't0', 'browser', 'Search', 'To', '3Amtx', '007', 'encouraged', 'selection', '22169', 'include', 'patrolToken', '35C5', 'ns', 'hor', 'xb5', 'statement', 'rx', 'amp', '999', 'Infobox_file_format', 'async', '484', 'example', 'apple', 'endif', 'version', 'Powered', '24px', '5h4v5H9zM4', 'x80', '691l1', 'langlinks', 'items', 'none', 'separated_format', 'wgCurRevisionId', 'rootpage', 'srcset', 'sup', '8C', 'csrfToken', 'however', '192', 'generic', 'mobileaction', 'x82', 'duration', 'mw', 'xaa', '7px', '49', 'name', 'Container', 'surface', '8', 'Oct', '2268', 'uk', 'j', '1000', 'en', 'charinsert', 'auto', 'keyframes', 'x88'}\n"
     ]
    }
   ],
   "source": [
    "# -*- coding: utf-8 -*-\n",
    "\n",
    "import re\n",
    "regex = r'\\w+'\n",
    "\n",
    "nbChar = 0\n",
    "nbLine = 0\n",
    "words = []\n",
    "\n",
    "with open(\"HTML.html\", \"rb\") as file:\n",
    "    for line in file:\n",
    "        nbChar += len(line)\n",
    "        nbLine += 1\n",
    "    file.seek(0)\n",
    "    words = re.findall(regex, str(file.read()))\n",
    "file.close()\n",
    "\n",
    "print(\"number of characters in the HTML file: \" + str(nbChar))\n",
    "print(\"number of lines in the HTML file: \" + str(nbLine))\n",
    "print(\"number of words in the HTML file: \" + str(len(words)))\n",
    "print(\"first twenty words in the HTML file: \" + str(words[:20]))\n",
    "print(\"distinct words in the HTML file: \" + str(set(words)))"
   ]
  },
  {
   "cell_type": "markdown",
   "metadata": {},
   "source": [
    "Question: Copy CSV file in your home directory. The file contains the population values between 1901 and 2016. Write a\n",
    "program in Python to get the maximum value.\n",
    "- the maximum value of population\n",
    "- the minimum value of population"
   ]
  },
  {
   "cell_type": "code",
   "execution_count": 118,
   "metadata": {},
   "outputs": [
    {
     "name": "stdout",
     "output_type": "stream",
     "text": [
      "the maximum value of population: 66632870\n",
      "the minimum value of population: 40681000\n"
     ]
    }
   ],
   "source": [
    "minValue = 0;\n",
    "maxMalue = 0;\n",
    "i = 0;\n",
    "\n",
    "with open(\"population.csv\", \"r\") as file:\n",
    "    for line in file:\n",
    "        if(i>0):\n",
    "            value = int(line.split(\",\")[1])\n",
    "            if(i==1 or value < minValue):\n",
    "                minValue = value\n",
    "            if(i==1 or value > maxMalue):\n",
    "                maxMalue = value\n",
    "        i += 1\n",
    "file.close()\n",
    "\n",
    "print(\"the maximum value of population: \" + str(maxMalue))\n",
    "print(\"the minimum value of population: \" + str(minValue))"
   ]
  },
  {
   "cell_type": "code",
   "execution_count": 142,
   "metadata": {},
   "outputs": [
    {
     "name": "stdout",
     "output_type": "stream",
     "text": [
      "['clear_data_home', 'dump_svmlight_file', 'fetch_20newsgroups', 'fetch_20newsgroups_vectorized', 'fetch_lfw_pairs', 'fetch_lfw_people', 'fetch_mldata', 'fetch_olivetti_faces', 'fetch_species_distributions', 'fetch_california_housing', 'fetch_covtype', 'fetch_rcv1', 'fetch_kddcup99', 'get_data_home', 'load_boston', 'load_diabetes', 'load_digits', 'load_files', 'load_iris', 'load_breast_cancer', 'load_linnerud', 'load_mlcomp', 'load_sample_image', 'load_sample_images', 'load_svmlight_file', 'load_svmlight_files', 'load_wine', 'make_biclusters', 'make_blobs', 'make_circles', 'make_classification', 'make_checkerboard', 'make_friedman1', 'make_friedman2', 'make_friedman3', 'make_gaussian_quantiles', 'make_hastie_10_2', 'make_low_rank_matrix', 'make_moons', 'make_multilabel_classification', 'make_regression', 'make_s_curve', 'make_sparse_coded_signal', 'make_sparse_spd_matrix', 'make_sparse_uncorrelated', 'make_spd_matrix', 'make_swiss_roll', 'mldata_filename']\n"
     ]
    }
   ],
   "source": [
    "from sklearn import datasets\n",
    "print(datasets.__all__)"
   ]
  },
  {
   "cell_type": "code",
   "execution_count": 151,
   "metadata": {},
   "outputs": [
    {
     "ename": "UnicodeEncodeError",
     "evalue": "'latin-1' codec can't encode character '\\u20ac' in position 2: ordinal not in range(256)",
     "output_type": "error",
     "traceback": [
      "\u001b[1;31m---------------------------------------------------------------------------\u001b[0m",
      "\u001b[1;31mUnicodeEncodeError\u001b[0m                        Traceback (most recent call last)",
      "\u001b[1;32m<ipython-input-151-67f984bd489b>\u001b[0m in \u001b[0;36m<module>\u001b[1;34m()\u001b[0m\n\u001b[0;32m      1\u001b[0m \u001b[1;32mimport\u001b[0m \u001b[0mnumpy\u001b[0m \u001b[1;32mas\u001b[0m \u001b[0mnp\u001b[0m\u001b[1;33m\u001b[0m\u001b[0m\n\u001b[0;32m      2\u001b[0m dataset = np.loadtxt(\"pl.csv\", dtype={'names': ('name', 'year'), 'formats': ('U100', 'i4')},\n\u001b[1;32m----> 3\u001b[1;33m    skiprows=1, delimiter=\",\")\n\u001b[0m\u001b[0;32m      4\u001b[0m \u001b[0mprint\u001b[0m\u001b[1;33m(\u001b[0m\u001b[0mdataset\u001b[0m\u001b[1;33m)\u001b[0m\u001b[1;33m\u001b[0m\u001b[0m\n",
      "\u001b[1;32mD:\\Programs\\Anaconda3\\lib\\site-packages\\numpy\\lib\\npyio.py\u001b[0m in \u001b[0;36mloadtxt\u001b[1;34m(fname, dtype, comments, delimiter, converters, skiprows, usecols, unpack, ndmin)\u001b[0m\n\u001b[0;32m   1011\u001b[0m         \u001b[1;31m# Parse each line, including the first\u001b[0m\u001b[1;33m\u001b[0m\u001b[1;33m\u001b[0m\u001b[0m\n\u001b[0;32m   1012\u001b[0m         \u001b[1;32mfor\u001b[0m \u001b[0mi\u001b[0m\u001b[1;33m,\u001b[0m \u001b[0mline\u001b[0m \u001b[1;32min\u001b[0m \u001b[0menumerate\u001b[0m\u001b[1;33m(\u001b[0m\u001b[0mitertools\u001b[0m\u001b[1;33m.\u001b[0m\u001b[0mchain\u001b[0m\u001b[1;33m(\u001b[0m\u001b[1;33m[\u001b[0m\u001b[0mfirst_line\u001b[0m\u001b[1;33m]\u001b[0m\u001b[1;33m,\u001b[0m \u001b[0mfh\u001b[0m\u001b[1;33m)\u001b[0m\u001b[1;33m)\u001b[0m\u001b[1;33m:\u001b[0m\u001b[1;33m\u001b[0m\u001b[0m\n\u001b[1;32m-> 1013\u001b[1;33m             \u001b[0mvals\u001b[0m \u001b[1;33m=\u001b[0m \u001b[0msplit_line\u001b[0m\u001b[1;33m(\u001b[0m\u001b[0mline\u001b[0m\u001b[1;33m)\u001b[0m\u001b[1;33m\u001b[0m\u001b[0m\n\u001b[0m\u001b[0;32m   1014\u001b[0m             \u001b[1;32mif\u001b[0m \u001b[0mlen\u001b[0m\u001b[1;33m(\u001b[0m\u001b[0mvals\u001b[0m\u001b[1;33m)\u001b[0m \u001b[1;33m==\u001b[0m \u001b[1;36m0\u001b[0m\u001b[1;33m:\u001b[0m\u001b[1;33m\u001b[0m\u001b[0m\n\u001b[0;32m   1015\u001b[0m                 \u001b[1;32mcontinue\u001b[0m\u001b[1;33m\u001b[0m\u001b[0m\n",
      "\u001b[1;32mD:\\Programs\\Anaconda3\\lib\\site-packages\\numpy\\lib\\npyio.py\u001b[0m in \u001b[0;36msplit_line\u001b[1;34m(line)\u001b[0m\n\u001b[0;32m    956\u001b[0m \u001b[1;33m\u001b[0m\u001b[0m\n\u001b[0;32m    957\u001b[0m         \"\"\"\n\u001b[1;32m--> 958\u001b[1;33m         \u001b[0mline\u001b[0m \u001b[1;33m=\u001b[0m \u001b[0masbytes\u001b[0m\u001b[1;33m(\u001b[0m\u001b[0mline\u001b[0m\u001b[1;33m)\u001b[0m\u001b[1;33m\u001b[0m\u001b[0m\n\u001b[0m\u001b[0;32m    959\u001b[0m         \u001b[1;32mif\u001b[0m \u001b[0mcomments\u001b[0m \u001b[1;32mis\u001b[0m \u001b[1;32mnot\u001b[0m \u001b[1;32mNone\u001b[0m\u001b[1;33m:\u001b[0m\u001b[1;33m\u001b[0m\u001b[0m\n\u001b[0;32m    960\u001b[0m             \u001b[0mline\u001b[0m \u001b[1;33m=\u001b[0m \u001b[0mregex_comments\u001b[0m\u001b[1;33m.\u001b[0m\u001b[0msplit\u001b[0m\u001b[1;33m(\u001b[0m\u001b[0masbytes\u001b[0m\u001b[1;33m(\u001b[0m\u001b[0mline\u001b[0m\u001b[1;33m)\u001b[0m\u001b[1;33m,\u001b[0m \u001b[0mmaxsplit\u001b[0m\u001b[1;33m=\u001b[0m\u001b[1;36m1\u001b[0m\u001b[1;33m)\u001b[0m\u001b[1;33m[\u001b[0m\u001b[1;36m0\u001b[0m\u001b[1;33m]\u001b[0m\u001b[1;33m\u001b[0m\u001b[0m\n",
      "\u001b[1;32mD:\\Programs\\Anaconda3\\lib\\site-packages\\numpy\\compat\\py3k.py\u001b[0m in \u001b[0;36masbytes\u001b[1;34m(s)\u001b[0m\n\u001b[0;32m     33\u001b[0m         \u001b[1;32mif\u001b[0m \u001b[0misinstance\u001b[0m\u001b[1;33m(\u001b[0m\u001b[0ms\u001b[0m\u001b[1;33m,\u001b[0m \u001b[0mbytes\u001b[0m\u001b[1;33m)\u001b[0m\u001b[1;33m:\u001b[0m\u001b[1;33m\u001b[0m\u001b[0m\n\u001b[0;32m     34\u001b[0m             \u001b[1;32mreturn\u001b[0m \u001b[0ms\u001b[0m\u001b[1;33m\u001b[0m\u001b[0m\n\u001b[1;32m---> 35\u001b[1;33m         \u001b[1;32mreturn\u001b[0m \u001b[0mstr\u001b[0m\u001b[1;33m(\u001b[0m\u001b[0ms\u001b[0m\u001b[1;33m)\u001b[0m\u001b[1;33m.\u001b[0m\u001b[0mencode\u001b[0m\u001b[1;33m(\u001b[0m\u001b[1;34m'latin1'\u001b[0m\u001b[1;33m)\u001b[0m\u001b[1;33m\u001b[0m\u001b[0m\n\u001b[0m\u001b[0;32m     36\u001b[0m \u001b[1;33m\u001b[0m\u001b[0m\n\u001b[0;32m     37\u001b[0m     \u001b[1;32mdef\u001b[0m \u001b[0masstr\u001b[0m\u001b[1;33m(\u001b[0m\u001b[0ms\u001b[0m\u001b[1;33m)\u001b[0m\u001b[1;33m:\u001b[0m\u001b[1;33m\u001b[0m\u001b[0m\n",
      "\u001b[1;31mUnicodeEncodeError\u001b[0m: 'latin-1' codec can't encode character '\\u20ac' in position 2: ordinal not in range(256)"
     ]
    }
   ],
   "source": [
    "import numpy as np\n",
    "dataset = np.loadtxt(\"pl.csv\", dtype={'names': ('name', 'year'), 'formats': ('U100', 'i4')},\n",
    "   skiprows=1, delimiter=\",\")\n",
    "print(dataset)"
   ]
  },
  {
   "cell_type": "code",
   "execution_count": null,
   "metadata": {
    "collapsed": true
   },
   "outputs": [],
   "source": []
  }
 ],
 "metadata": {
  "kernelspec": {
   "display_name": "Python 3",
   "language": "python",
   "name": "python3"
  },
  "language_info": {
   "codemirror_mode": {
    "name": "ipython",
    "version": 3
   },
   "file_extension": ".py",
   "mimetype": "text/x-python",
   "name": "python",
   "nbconvert_exporter": "python",
   "pygments_lexer": "ipython3",
   "version": "3.6.3"
  }
 },
 "nbformat": 4,
 "nbformat_minor": 2
}
